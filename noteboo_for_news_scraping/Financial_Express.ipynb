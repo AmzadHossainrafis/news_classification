{
 "cells": [
  {
   "cell_type": "code",
   "execution_count": null,
   "metadata": {},
   "outputs": [],
   "source": [
    "from bs4 import BeautifulSoup as bs \n",
    "import requests \n",
    "import numpy as np \n",
    "import pandas as pd\n",
    "titles=[]\n",
    "links=[]"
   ]
  },
  {
   "cell_type": "code",
   "execution_count": null,
   "metadata": {},
   "outputs": [],
   "source": [
    "for i in range(1,251):\n",
    "  html2=requests.get(\"https://thefinancialexpress.com.bd/page/stock/bangladesh?page=\"+str(i)).content\n",
    "  html=bs(html2,\"html.parser\")\n",
    "  title=html.find_all('a')\n",
    "  #link = [a['href'] for a in title]\n",
    "  for i in title:\n",
    "    links.append(i.get('href'))"
   ]
  },
  {
   "cell_type": "code",
   "execution_count": null,
   "metadata": {},
   "outputs": [],
   "source": [
    "\n",
    "links=list(set(links))\n"
   ]
  },
  {
   "cell_type": "code",
   "execution_count": null,
   "metadata": {},
   "outputs": [],
   "source": [
    "links[:50]"
   ]
  },
  {
   "cell_type": "code",
   "execution_count": null,
   "metadata": {},
   "outputs": [],
   "source": [
    "new=[]\n",
    "r=requests.get(\"https://thefinancialexpress.com.bd/stock/dse-cse-creep-higher-at-opening-1531201475\").content\n",
    "html=bs(r,\"html.parser\")\n",
    "title=html.find('h1',class_=\"single-heading\").text\n",
    "title\n",
    "date=html.find('span').text\n",
    "date=html.find('span',class_='p3').text\n",
    "news=html.find_all('span')[7:-1]\n",
    "#news=[i.text for i in news]\n",
    "for i in news:\n",
    "  new.append(i.text.strip().replace('\\n',''))\n",
    "print(new)\n",
    "\n"
   ]
  },
  {
   "cell_type": "code",
   "execution_count": 49,
   "metadata": {},
   "outputs": [
    {
     "name": "stdout",
     "output_type": "stream",
     "text": [
      " S. S. Steel to invest in Saleh Steel Industries \n",
      "<span class=\"fa fa-youtube\"></span>\n",
      "Published: \n",
      "August 04, 2020 12:28:23 \n",
      "['', '', '', '', '', '', '', '', '']\n",
      "-----------------\n",
      "error1\n",
      " DSEX dips below 5,000-mark as sale pressure mounted \n",
      "<span class=\"fa fa-youtube\"></span>\n",
      "Published: \n",
      "July 22, 2019 15:41:23 \n",
      "['', '', '', '', '', '', '', '', '']\n",
      "-----------------\n",
      "error3\n",
      " Ten cos snare 29pc turnover; Brac Bank tops \n",
      "<span class=\"fa fa-youtube\"></span>\n",
      "Published: \n",
      "May 21, 2019 10:49:32 \n",
      "['Ten most-traded companies captured more than 29 per cent transaction of the Dhaka Stock Exchange (DSE) on Monday while Brac Bank topped the list.', 'Market analysts said investors were active on both sides of the Brac Bank shares after earnings declaration for January-March, 2019.', 'The un-audited consolidated earnings per share (EPS) of the bank stood at Tk 1.22 for January-March 2019 quarter as against Tk 1.28 for January-March 2018.', 'The consolidated net operating cash flow per share (NOCFPS) was Tk 5.82 for January-March 2019 as against Tk 5.67 for January-March 2018.', 'The consolidated net asset value (NAV) per share was Tk 34.09 as on March 31, 2019 and Tk. 26.21 as on March 31, 2018.', \"According to statistics from the DSE, with 6.88 million shares of Brac Bank were traded on the day, generating a turnover of Tk 400 million, which was 10.31 per cent of the DSE's total turnover.\", 'The total turnover on the DSE stood at Tk 3.87 billion on Monday which was Tk 4.43 billion in the previous session.', \"The bank's share closed at Tk 58.10 on Monday, losing 2.84 per cent after soaring 6.21 per cent in the previous day.\", \"The bank's share traded between Tk 55 and Tk 90.40 in the last one year.\", '', '', '', '', '', '', '', '', '']\n",
      "-----------------\n",
      " DSE, CSE keep gaining on buying spree \n",
      "<span class=\"fa fa-youtube\"></span>\n",
      "Published: \n",
      "January 09, 2019 15:26:58 \n",
      "['Stocks maintained the gaining streak Wednesday as investors continued to show their buying spree on sector-wise issues.', 'The market opened on upward trend and key index crossed the 5,800-mark twice in intra-day trading, but failed to stay that level amid profit booking selling pressure.', 'At the end of the session, DSEX, the prime index of the Dhaka Stock Exchange (DSE), went up by 27.81 points or 0.48 per cent to settle at nine months high at 5,798.', 'The two other indices also followed the suit. The DS30 index, comprising blue chips, went up by 9.93 points to close at 2,011 and the DSE Shariah Index (DSES) advanced 7.92 points to close at 1,315.', 'Bullish sentiment also reflected on the trading activities as total turnover on the DSE amounting to Tk 10.25 billion, which was 1.50 per cent higher than the previous day’s Tk 10.10 billion.', 'A total number of 221,968 trades were executed in the day’s trading session with trading volume of 278.68 million shares and mutual fund units.', 'The market-cap of DSE increased to Tk 4,098 billion which was Tk 4,076 billion in the previous day.', 'The losers, however, took a modest lead over the gainers as out of 346 issues traded, 161 declined, 148 advanced and 37 issues remained unchanged on the DSE floor.', 'Olympic Industries dominated the turnover chart with 1.38 million shares worth Tk 359 million changing hands, followed by Active Fine Chemicals, BBS Cables, Singer Bangladesh and Dhaka Bank.', 'United Insurance was the day’s best performer, posting a gain of 9.97 per cent.', 'Delta Spinners was the worst loser further, plunging by 8.22 per cent following the news that the company downgraded to “Z” category as it failed to hold an AGM in the calendar year 2018.', 'Port city bourse Chittagong Stock Exchange (CSE) also ended higher with the CSE All Share Price Index – CASPI – advancing 71 points to settle at 17,779 points and Selective Categories Index – CSCX –gaining 46 points to finish at 10,735.', 'The gainers beat the losers as 126 issues closed higher, 121 ended lower and 18 remained unchanged.', 'The port city bourse traded 17.84 million shares and mutual fund units worth nearly Tk 629 million in turnover.', '[email\\xa0protected]', '', '', '', '', '', '', '', '', '']\n",
      "-----------------\n",
      " Alif Industries to issue Tk 3.0b convertible bond \n",
      "<span class=\"fa fa-youtube\"></span>\n",
      "Published: \n",
      "November 11, 2021 11:58:14 \n",
      "['', '', '', '', '', '', '', '', '']\n",
      "-----------------\n",
      " Uttara Finance recommends 20pc cash dividend \n",
      "<span class=\"fa fa-youtube\"></span>\n",
      "Published: \n",
      "May 12, 2019 11:14:13 \n",
      "['Photo collected from internet has been used for representational purpose only', '', '', '', '', '', '', '', '', '', '', '']\n",
      "-----------------\n",
      " Gloomy business climate discourages companies to go public \n",
      "<span class=\"fa fa-youtube\"></span>\n",
      "Published: \n",
      "November 20, 2022 08:56:30 \n",
      "['', '', '', '', '', '', '', '', '']\n",
      "-----------------\n",
      "error9\n"
     ]
    }
   ],
   "source": [
    "news=[]\n",
    "datex=[]\n",
    "titles=[]\n",
    "date_and_time=[]\n",
    "cetegory=[]\n",
    "link=[]\n",
    "count=0\n",
    "for i in links:\n",
    "    if count==10:\n",
    "        break\n",
    "    else:\n",
    "        try:\n",
    "            r=requests.get(i).content\n",
    "            html=bs(r,\"html.parser\")\n",
    "            title=html.find('h1',class_=\"single-heading\").text\n",
    "            date=html.find('span',class_='p3').text\n",
    "            news=html.find_all('span')[7:-1]\n",
    "            new=[]\n",
    "            for i in news:\n",
    "                new.append(i.text.strip().replace('\\n',''))\n",
    "            print(title)\n",
    "            print(i)\n",
    "            print(date)\n",
    "            print(new)\n",
    "            print('-----------------')\n",
    "\n",
    "            # titles.append(title)\n",
    "            # date_and_time.append(date)\n",
    "            # cetegory.append('stock')\n",
    "            # link.append(i)\n",
    "\n",
    "        except:\n",
    "            print(f'error{count}')\n",
    "    count+=1"
   ]
  }
 ],
 "metadata": {
  "kernelspec": {
   "display_name": "base",
   "language": "python",
   "name": "python3"
  },
  "language_info": {
   "codemirror_mode": {
    "name": "ipython",
    "version": 3
   },
   "file_extension": ".py",
   "mimetype": "text/x-python",
   "name": "python",
   "nbconvert_exporter": "python",
   "pygments_lexer": "ipython3",
   "version": "3.9.12"
  },
  "orig_nbformat": 4,
  "vscode": {
   "interpreter": {
    "hash": "4ef60fdc05b8c9d7c00029e41ed6e96799336c5489ef8cc1e2e0d70e844fa01c"
   }
  }
 },
 "nbformat": 4,
 "nbformat_minor": 2
}
