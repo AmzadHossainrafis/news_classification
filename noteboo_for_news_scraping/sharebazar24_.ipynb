{
 "cells": [
  {
   "cell_type": "code",
   "execution_count": null,
   "metadata": {},
   "outputs": [],
   "source": [
    "from bs4 import BeautifulSoup as bs \n",
    "import requests \n",
    "import numpy as np \n",
    "import pandas as pd\n",
    "links=[]"
   ]
  },
  {
   "cell_type": "code",
   "execution_count": null,
   "metadata": {},
   "outputs": [],
   "source": [
    "url='https://pujibazar.com/category/%E0%A6%AA%E0%A7%81%E0%A6%81%E0%A6%9C%E0%A6%BF%E0%A6%AC%E0%A6%BE%E0%A6%9C%E0%A6%BE%E0%A6%B0/%E0%A6%95%E0%A7%8B%E0%A6%AE%E0%A7%8D%E0%A6%AA%E0%A6%BE%E0%A6%A8%E0%A6%BF-%E0%A6%B8%E0%A6%82%E0%A6%AC%E0%A6%BE%E0%A6%A6/page/'"
   ]
  },
  {
   "cell_type": "code",
   "execution_count": null,
   "metadata": {},
   "outputs": [],
   "source": [
    "\n",
    "for i in range(2,9):\n",
    "  html2=requests.get(url+str(i)).content\n",
    "  html=bs(html2,\"html.parser\")\n",
    "  title=html.find_all('a')\n",
    "  link = [a['href'] for a in title]\n",
    "#   for i in link:\n",
    "#     if \"https://www.arthosuchak.com/archives/\" in i:\n",
    "#       links.append(i)\n",
    "#     #dont append if \"https://www.arthosuchak.com/archives/category/share-market/page/\" is in i\n",
    "\n",
    "  "
   ]
  },
  {
   "cell_type": "code",
   "execution_count": null,
   "metadata": {},
   "outputs": [],
   "source": [
    "#remove duplicate links \n",
    "links=list(set(link))\n",
    "links.remove('pujibazarbd@gmail.com')\n",
    "links.remove('#')\n",
    "len(links)"
   ]
  },
  {
   "cell_type": "code",
   "execution_count": null,
   "metadata": {},
   "outputs": [],
   "source": [
    "titles=[]\n",
    "dates=[]\n",
    "contents=[]\n",
    "link_list=[]\n",
    "\n",
    "\n",
    "soup = bs(requests.get(\"https://www.sharebarta24.com/archives/16522.html\").text, 'html.parser')\n",
    "title=soup.find('h1').text\n",
    "date=soup.find_all('p')[1].text.split(',')[-2]\n",
    "content=soup.find('div',class_='main-content').text.strip(\"'\")\n",
    "date"
   ]
  },
  {
   "cell_type": "code",
   "execution_count": null,
   "metadata": {},
   "outputs": [],
   "source": [
    "titles=[]\n",
    "titlesx=[]\n",
    "dates=[]\n",
    "datex=[]\n",
    "contents=[]\n",
    "contentsx=[]\n",
    "link_list=[]\n",
    "cetgory=[]\n",
    "\n",
    "for i in range(11,66):\n",
    "    try :\n",
    "        soup = bs(requests.get(f\"https://www.sharebarta24.com/archives/165{i}.html\").text, 'html.parser')\n",
    "        print(f\"https://www.sharebarta24.com/archives/165{i}.html\")\n",
    "        title=soup.find('h1').text\n",
    "        print(title)\n",
    "        date=soup.find_all('p')[1].text.split(',')[-2]\n",
    "        \n",
    "        print(date)\n",
    "        content=soup.find('div',class_='main-content').text\n",
    "        print(content)\n",
    "        \n",
    "        \n",
    "    except:\n",
    "        #remove this link from the list \n",
    "        print(\"error\")\n",
    "        continue\n",
    "    titles.append(title)\n",
    "    dates.append(date)\n",
    "    contents.append(content)\n",
    "    link_list.append(f\"https://www.sharebarta24.com/archives/165{i}.html\")\n",
    "    cetgory.append(\"পুঁজিবাজার\")\n",
    "  \n"
   ]
  },
  {
   "cell_type": "code",
   "execution_count": null,
   "metadata": {},
   "outputs": [],
   "source": [
    "print(len(titles))\n",
    "print(len(dates))\n",
    "print(len(contents))\n"
   ]
  },
  {
   "cell_type": "code",
   "execution_count": null,
   "metadata": {},
   "outputs": [],
   "source": [
    "a=pd.DataFrame({'title':titles,'date':dates,'content':contents,'link':link_list})\n",
    "a.to_csv(r'C:\\Users\\Amzad\\Desktop\\sharebarta24.csv',index=False)\n"
   ]
  }
 ],
 "metadata": {
  "kernelspec": {
   "display_name": "base",
   "language": "python",
   "name": "python3"
  },
  "language_info": {
   "codemirror_mode": {
    "name": "ipython",
    "version": 3
   },
   "file_extension": ".py",
   "mimetype": "text/x-python",
   "name": "python",
   "nbconvert_exporter": "python",
   "pygments_lexer": "ipython3",
   "version": "3.9.12"
  },
  "orig_nbformat": 4,
  "vscode": {
   "interpreter": {
    "hash": "4ef60fdc05b8c9d7c00029e41ed6e96799336c5489ef8cc1e2e0d70e844fa01c"
   }
  }
 },
 "nbformat": 4,
 "nbformat_minor": 2
}
