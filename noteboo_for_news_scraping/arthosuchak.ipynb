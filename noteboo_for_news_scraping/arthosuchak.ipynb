{
 "cells": [
  {
   "cell_type": "code",
   "execution_count": null,
   "metadata": {},
   "outputs": [],
   "source": [
    "from bs4 import BeautifulSoup as bs \n",
    "import requests \n",
    "import numpy as np \n",
    "import pandas as pd\n",
    "titles=[]\n",
    "links=[]\n"
   ]
  },
  {
   "cell_type": "code",
   "execution_count": null,
   "metadata": {},
   "outputs": [],
   "source": [
    "for i in range(2,597):\n",
    "  html2=requests.get(\"https://www.arthosuchak.com/archives/category/share-market/page/\"+str(i)).content\n",
    "  html=bs(html2,\"html.parser\")\n",
    "  title=html.find_all('a')\n",
    "  link = [a['href'] for a in title]\n",
    "  for i in link:\n",
    "    if \"https://www.arthosuchak.com/archives/\" in i:\n",
    "      links.append(i)\n",
    "    #dont append if \"https://www.arthosuchak.com/archives/category/share-market/page/\" is in i\n",
    "\n",
    "  "
   ]
  },
  {
   "cell_type": "code",
   "execution_count": null,
   "metadata": {},
   "outputs": [],
   "source": [
    "links=np.load(r'C:\\Users\\Amzad\\Desktop\\news_analysis\\data\\arthoosuchak_economics_links.npy',allow_pickle=True)\n",
    "for i in links:\n",
    "  if \"https://www.arthosuchak.com/archives/category/economics/page/\" in i:\n",
    "    links.remove(i)\n",
    "  if \"https://www.arthosuchak.com/archives/category/bank-insurance/\" in i:\n",
    "    links.remove(i)\n",
    "  if 'https://www.arthosuchak.com/archives/category/whole-country/' in i:\n",
    "    links.remove(i)\n",
    "  if 'https://www.arthosuchak.com/archives/category/corporate-news/' in i:\n",
    "    links.remove(i)\n",
    "  if 'https://www.arthosuchak.com/archives/category/corporate-news/' in i:\n",
    "    links.remove(i)\n",
    "  if 'https://www.arthosuchak.com/archives/category/%e0%a6%b8%e0%a7%8d%e0%a6%aa%e0%a6%a8%e0%a7%8d%e0%a6%b8%e0%a6%b0%e0%a7%8d%e0%a6%a1/' in i:\n",
    "    links.remove(i)\n",
    "  if 'https://www.arthosuchak.com/archives/category/international/' in i:\n",
    "    links.remove(i)\n",
    "  if 'https://www.arthosuchak.com/archives/category/crime-law/' in i:\n",
    "    links.remove(i)\n",
    "  \n",
    "print(len(links))"
   ]
  },
  {
   "cell_type": "code",
   "execution_count": null,
   "metadata": {},
   "outputs": [],
   "source": [
    "links=list(set(links))\n",
    "if len(links)==len(set(links)):\n",
    "  print(\"no duplicates\")\n",
    "print(len(links))"
   ]
  },
  {
   "cell_type": "code",
   "execution_count": null,
   "metadata": {},
   "outputs": [],
   "source": [
    "#go to site and get the html \n",
    "count=0\n",
    "news=[]\n",
    "datex=[]\n",
    "titles=[]\n",
    "date_and_time=[]\n",
    "cetegory=[]\n",
    "link=[]\n",
    "\n",
    "for j in links:\n",
    "    if count==7000:\n",
    "        break \n",
    "    elif count%500==0:\n",
    "        df=pd.DataFrame({'Title':titles,'Link':link,'Description':news,'Date':datex,'Category':cetegory})\n",
    "        df.to_csv(r'C:\\Users\\Amzad\\Desktop\\arthosuchak_stock_market.csv',index=False)\n",
    "\n",
    "    else:\n",
    "        try :\n",
    "\n",
    "            des=[]\n",
    "            title=[]\n",
    "            date=[]\n",
    "            \n",
    "            html2=requests.get(j).content\n",
    "            html=bs(html2,\"html.parser\")\n",
    "            news_title=html.find_all('h1')\n",
    "            title.append(news_title[0].text.replace('\\n',''))\n",
    "            find_b=html.find_all('b')\n",
    "            data_split=find_b[0].text.split(' ')[0]\n",
    "            date.append(data_split)\n",
    "            date_and_time.append(date)\n",
    "            \n",
    "            \n",
    "            text=html.find_all('p')\n",
    "            for i in text:\n",
    "                text2='' \n",
    "                if i.get_text() !='অর্থসূচক/এসএ/' or 'অর্থসূচক/' or '\\n\\nঅর্থসূচক/':\n",
    "                    x=i.get_text().replace('\\n','')\n",
    "                    x=x.replace('\\xa0','')\n",
    "                    x=x.replace(',',' ')\n",
    "                    des.append(x)         \n",
    "                if 'অর্থসূচক/' in i.get_text():\n",
    "                    break\n",
    "            des.remove(des[0])\n",
    "            \n",
    "            \n",
    "            \n",
    "\n",
    "\n",
    "        except:\n",
    "            count+=1\n",
    "            print(f'error,{count}')\n",
    "            continue\n",
    "        titles.append(title)\n",
    "        news.append(des)\n",
    "        datex.append(data_split)\n",
    "        cetegory.append('পুঁজিবাজার')\n",
    "        link.append(j)\n",
    "\n",
    "        \n",
    "    count+=1\n",
    "    \n",
    "        \n",
    "#re\n",
    "\n"
   ]
  },
  {
   "cell_type": "code",
   "execution_count": null,
   "metadata": {},
   "outputs": [],
   "source": [
    "c=des[3]\n",
    "c.replace('\\n','')\n",
    "c.replace('\\xa0','')\n",
    "\n",
    "\n"
   ]
  },
  {
   "cell_type": "code",
   "execution_count": null,
   "metadata": {},
   "outputs": [],
   "source": [
    "\n",
    "print(titles)\n",
    "print(news)\n",
    "print(len(cetegory))\n",
    "print(len(link))"
   ]
  },
  {
   "cell_type": "code",
   "execution_count": null,
   "metadata": {},
   "outputs": [],
   "source": [
    "df=pd.DataFrame({'Title':titles,'Link':link,'Description':news,'Date':datex,'Category':cetegory})\n",
    "df.to_csv(r'C:\\Users\\Amzad\\Desktop\\arthosuchak_.csv',index=False)"
   ]
  }
 ],
 "metadata": {
  "kernelspec": {
   "display_name": "base",
   "language": "python",
   "name": "python3"
  },
  "language_info": {
   "codemirror_mode": {
    "name": "ipython",
    "version": 3
   },
   "file_extension": ".py",
   "mimetype": "text/x-python",
   "name": "python",
   "nbconvert_exporter": "python",
   "pygments_lexer": "ipython3",
   "version": "3.9.12"
  },
  "orig_nbformat": 4,
  "vscode": {
   "interpreter": {
    "hash": "4ef60fdc05b8c9d7c00029e41ed6e96799336c5489ef8cc1e2e0d70e844fa01c"
   }
  }
 },
 "nbformat": 4,
 "nbformat_minor": 2
}
