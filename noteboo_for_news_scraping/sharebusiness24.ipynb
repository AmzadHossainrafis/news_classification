{
 "cells": [
  {
   "cell_type": "code",
   "execution_count": 2,
   "metadata": {},
   "outputs": [],
   "source": [
    "from bs4 import BeautifulSoup as bs \n",
    "import requests \n",
    "import numpy as np \n",
    "import pandas as pd\n",
    "links=[]"
   ]
  },
  {
   "cell_type": "code",
   "execution_count": 3,
   "metadata": {},
   "outputs": [],
   "source": [
    "base_link='https://www.sharebusiness24.com/archives/?newstype='"
   ]
  },
  {
   "cell_type": "code",
   "execution_count": 4,
   "metadata": {},
   "outputs": [
    {
     "data": {
      "text/plain": [
       "45817"
      ]
     },
     "execution_count": 4,
     "metadata": {},
     "output_type": "execute_result"
    }
   ],
   "source": [
    "for i in range(2,500):     \n",
    "    url = base_link+str(i)\n",
    "    r = requests.get(url).text\n",
    "    soup = bs(r, 'html.parser')\n",
    "    link=soup.find_all('a')\n",
    "    link = [a['href'] for a in link]\n",
    "    for i in link:\n",
    "        if 'https://www.sharebusiness24.com/archives/' not  in i:\n",
    "            links.append(i)\n",
    "\n",
    "len(links)"
   ]
  },
  {
   "cell_type": "code",
   "execution_count": 5,
   "metadata": {},
   "outputs": [],
   "source": [
    "links = list(set(links))\n"
   ]
  },
  {
   "cell_type": "code",
   "execution_count": 6,
   "metadata": {},
   "outputs": [
    {
     "name": "stdout",
     "output_type": "stream",
     "text": [
      "416\n"
     ]
    }
   ],
   "source": [
    "\n",
    "remove_list=['#', 'https://www.youtube.com/@sharebusiness24', 'https://www.sharebusiness24.com/rss/rss.xml', 'https://www.sharebusiness24.com/banglafont.php', 'https://www.sharebusiness24.com/', 'https://waltonbd.com/refrigerator-freezer', 'https://www.sharebusiness24.com/', 'https://www.sharebusiness24.com/1/শেয়ারবাজার', 'https://www.sharebusiness24.com/2/অর্থ-বাণিজ্য', 'https://www.sharebusiness24.com/3/রাজনীতি', 'https://www.sharebusiness24.com/4/চাকরি', 'https://www.sharebusiness24.com/5/কেনাকাটা', 'https://www.sharebusiness24.com/6/কর্পোরেট', 'https://www.sharebusiness24.com/7/খেলা-জগৎ', 'https://www.sharebusiness24.com/8/ভ্রমণ', 'https://www.sharebusiness24.com/9/গ্রামবাংলা', 'https://www.sharebusiness24.com/10/শিক্ষা', 'https://www.sharebusiness24.com/11/জাতীয়', 'https://www.sharebusiness24.com/12/ধর্ম', 'https://www.sharebusiness24.com/13/বিচিত্রা', '#', 'https://www.sharebusiness24.com/14/স্বাস্থ্য', 'https://www.sharebusiness24.com/15/বিশেষ-প্রতিবেদন', 'https://www.sharebusiness24.com/16/বিজ্ঞান-প্রযুক্তি', 'https://www.sharebusiness24.com/17/শেয়ার-বিজনেস-কী', 'https://www.sharebusiness24.com/18/মূল্যসংবেদনশীল-তথ্য', 'https://www.sharebusiness24.com/20/নারী-ও-নারী-উদ্যোক্তা', 'https://www.sharebusiness24.com/19/English', ]\n",
    "\n",
    "for i in remove_list:\n",
    "    if i in links:\n",
    "        links.remove(i)\n",
    "\n",
    "print(len(links))\n"
   ]
  },
  {
   "cell_type": "code",
   "execution_count": 8,
   "metadata": {},
   "outputs": [
    {
     "name": "stdout",
     "output_type": "stream",
     "text": [
      "done\n"
     ]
    }
   ],
   "source": [
    "#save links in npy file\n",
    "#linkss=np.array(links)\n",
    "#np.save(r'C:\\Users\\Amzad\\Desktop\\news_analysis\\data\\sharebusiness24_eco_links.npy', linkss)\n",
    "load_link=np.load(r'C:\\Users\\Amzad\\Desktop\\news_analysis\\data\\sharebusiness24_eco_links.npy', allow_pickle=True)\n",
    "if len(load_link)==len(links):\n",
    "    print('done')"
   ]
  },
  {
   "cell_type": "code",
   "execution_count": 9,
   "metadata": {},
   "outputs": [
    {
     "name": "stdout",
     "output_type": "stream",
     "text": [
      "416\n"
     ]
    },
    {
     "data": {
      "text/plain": [
       "array(['https://www.sharebusiness24.com/Walton-AC-shows-electricity-consumption-at-DITF/19164',\n",
       "       'https://www.sharebusiness24.com/প্রাথমিকে-সহকারী-শিক্ষক-নিয়োগের-চূড়ান্ত-ফল-প্রকাশ/13520'],\n",
       "      dtype='<U103')"
      ]
     },
     "execution_count": 9,
     "metadata": {},
     "output_type": "execute_result"
    }
   ],
   "source": [
    "print(len(links))\n",
    "links=load_link\n",
    "links[:2]"
   ]
  },
  {
   "cell_type": "code",
   "execution_count": 16,
   "metadata": {},
   "outputs": [
    {
     "name": "stdout",
     "output_type": "stream",
     "text": [
      "প্রাথমিকে সহকারী শিক্ষক নিয়োগের চূড়ান্ত ফল প্রকাশ\n",
      "১১ সেপ্টেম্বর ২০১৮ মঙ্গলবার, ১১:০০  এএম\n",
      "নিজস্ব প্রতিবেদক\n",
      "সরকারি প্রাথমিক বিদ্যালয়ের রাজস্ব খাতভুক্ত ‘সহকারী শিক্ষক নিয়োগ-২০১৪’ পরীক্ষার ফলাফল প্রকাশ করা হয়েছে। এ পরীক্ষায় চূড়ান্তভাবে ৯৭৬৭ জন নির্বাচিত হয়েছেন।সোমবার রাতে প্রাথমিক ও গণশিক্ষা মন্ত্রণালয়ের জনসংযোগ কর্মকর্তা রবীন্দ্রনাথ রায় স্বাক্ষরিত এক বিজ্ঞপ্তিতে বিষয়টি নিশ্চিত করা হয়েছে।নিয়োগের জন্য মনোনীতদের তালিকা জেলা প্রাথমিক শিক্ষা অফিসের নোটিস বোর্ডে পাওয়া যাবে।এছাড়া প্রাথমিক ও গণশিক্ষা মন্ত্রণালয়ের ওয়েবসাইট www.mopme.gov.bd এবং প্রাথমিক শিক্ষা অধিদফতরের ওয়েবসাইটে www.dpe.gov.bd ফল প্রকাশিত হয়েছে।উল্লেখ্য, ২০১৪ সালে প্রকাশিত বিজ্ঞপ্তি অনুযায়ী গত ২০ এপ্রিল থেকে পার্বত্য জেলা বাদে চার ধাপে ৬১ জেলায় শিক্ষক নিয়োগের লিখিত পরীক্ষা অনুষ্ঠিত হয়। ১৩ লাখ আবেদনকারীর মধ্যে ৬ লাখ ১৬ হাজার ৬৪ জন লিখিত পরীক্ষায় অংশ নেন। এদের মধ্যে উত্তীর্ণ হয়েছেন ২৯ হাজার ৫৫৫ জন।\n"
     ]
    }
   ],
   "source": [
    "r='https://www.sharebusiness24.com/%E0%A6%AA%E0%A7%8D%E0%A6%B0%E0%A6%BE%E0%A6%A5%E0%A6%AE%E0%A6%BF%E0%A6%95%E0%A7%87-%E0%A6%B8%E0%A6%B9%E0%A6%95%E0%A6%BE%E0%A6%B0%E0%A7%80-%E0%A6%B6%E0%A6%BF%E0%A6%95%E0%A7%8D%E0%A6%B7%E0%A6%95-%E0%A6%A8%E0%A6%BF%E0%A7%9F%E0%A7%8B%E0%A6%97%E0%A7%87%E0%A6%B0-%E0%A6%9A%E0%A7%82%E0%A7%9C%E0%A6%BE%E0%A6%A8%E0%A7%8D%E0%A6%A4-%E0%A6%AB%E0%A6%B2-%E0%A6%AA%E0%A7%8D%E0%A6%B0%E0%A6%95%E0%A6%BE%E0%A6%B6/13520'\n",
    "r=requests.get(r).text\n",
    "soup=bs(r, 'html.parser')\n",
    "title=soup.find('h1').text\n",
    "# title\n",
    "title=title.strip()\n",
    "date=soup.find_all('div', class_='col-sm-12')\n",
    "date=date[1].text\n",
    "date=date.strip()\n",
    "date.split(',')[0]\n",
    "description=soup.find_all('div',class_='row DDetailsNews')\n",
    "description[1].text\n",
    "description=description[1].text.strip().replace('\\r','').replace('\\t','').replace('\\xa0','').replace('\\n','').replace('শেয়ারবিজনেস ডেস্ক :','')\n",
    "\n",
    "print(title)\n",
    "print(date)\n",
    "print(description)\n",
    "\n"
   ]
  },
  {
   "cell_type": "code",
   "execution_count": 17,
   "metadata": {},
   "outputs": [
    {
     "name": "stdout",
     "output_type": "stream",
     "text": [
      "error2\n",
      "error6\n",
      "error27\n",
      "error37\n",
      "error52\n",
      "error73\n",
      "error157\n",
      "error162\n",
      "error206\n",
      "error216\n",
      "error266\n",
      "error271\n",
      "error285\n",
      "error348\n",
      "error359\n",
      "error389\n"
     ]
    }
   ],
   "source": [
    "count=0\n",
    "titles=[]\n",
    "dates=[]\n",
    "news=[]\n",
    "link=[]\n",
    "cetegory=[]\n",
    "\n",
    "for i in links:\n",
    "    if count==9000:\n",
    "        break\n",
    "    else:\n",
    "        try:\n",
    "            r=requests.get(i).text\n",
    "            soup=bs(r, 'html.parser')\n",
    "            title=soup.find('h1').text \n",
    "            title=title.strip()\n",
    "            date=soup.find_all('div', class_='col-sm-12')\n",
    "            date=date[1].text\n",
    "            date=date.strip()\n",
    "            date=date.split(',')[0]\n",
    "            description=soup.find_all('div',class_='row DDetailsNews')\n",
    "            description=description[1].text\n",
    "            description=description.strip().replace('\\r','').replace('\\t','').replace('\\xa0','').replace('\\n','').replace('শেয়ারবিজনেস ডেস্ক :','')\n",
    "            titles.append(title)\n",
    "            dates.append(date)\n",
    "            news.append(description)\n",
    "            link.append(i)\n",
    "            cetegory.append('অর্থনীতি')\n",
    "            # print(count)\n",
    "            # print(title)\n",
    "            # print(date)\n",
    "            # print(description)\n",
    "        except:\n",
    "            print(f'error{count}')\n",
    "           \n",
    "\n",
    "        count+=1\n"
   ]
  },
  {
   "cell_type": "code",
   "execution_count": 11,
   "metadata": {},
   "outputs": [],
   "source": [
    "df=pd.DataFrame({'Title':titles,'Link':link,'Description':news,'Date':dates,'Category':cetegory})\n",
    "df.to_csv(r'C:\\Users\\Amzad\\Desktop\\sharebusiness24_eco.csv',index=False)"
   ]
  }
 ],
 "metadata": {
  "kernelspec": {
   "display_name": "base",
   "language": "python",
   "name": "python3"
  },
  "language_info": {
   "codemirror_mode": {
    "name": "ipython",
    "version": 3
   },
   "file_extension": ".py",
   "mimetype": "text/x-python",
   "name": "python",
   "nbconvert_exporter": "python",
   "pygments_lexer": "ipython3",
   "version": "3.9.12"
  },
  "orig_nbformat": 4,
  "vscode": {
   "interpreter": {
    "hash": "4ef60fdc05b8c9d7c00029e41ed6e96799336c5489ef8cc1e2e0d70e844fa01c"
   }
  }
 },
 "nbformat": 4,
 "nbformat_minor": 2
}
