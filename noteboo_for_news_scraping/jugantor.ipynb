{
 "cells": [
  {
   "cell_type": "code",
   "execution_count": 1,
   "metadata": {},
   "outputs": [],
   "source": [
    "from bs4 import BeautifulSoup as bs \n",
    "import requests \n",
    "import numpy as np \n",
    "import pandas as pd\n",
    "from tqdm import tqdm \n",
    "links=[]"
   ]
  },
  {
   "cell_type": "code",
   "execution_count": 5,
   "metadata": {},
   "outputs": [
    {
     "name": "stderr",
     "output_type": "stream",
     "text": [
      "100%|██████████| 12/12 [00:27<00:00,  2.28s/it]"
     ]
    },
    {
     "name": "stdout",
     "output_type": "stream",
     "text": [
      "3860\n"
     ]
    },
    {
     "name": "stderr",
     "output_type": "stream",
     "text": [
      "\n"
     ]
    }
   ],
   "source": [
    "for i in tqdm(range(1,13)):\n",
    "  html2=requests.get(\"https://www.jugantor.com/all-news/economics/import-export?page=\"+str(i)).content\n",
    "  html=bs(html2,\"html.parser\")\n",
    "  a=html.find_all('a')\n",
    "  for i in a:\n",
    "    links.append(i.get('href'))\n",
    "print(len(links))"
   ]
  },
  {
   "cell_type": "code",
   "execution_count": 6,
   "metadata": {},
   "outputs": [
    {
     "name": "stdout",
     "output_type": "stream",
     "text": [
      "353\n"
     ]
    }
   ],
   "source": [
    "links=list(set(links))\n",
    "print(len(links))"
   ]
  },
  {
   "cell_type": "code",
   "execution_count": 8,
   "metadata": {},
   "outputs": [
    {
     "data": {
      "text/plain": [
       "'ব্রাহ্মণবাড়িয়ার আখাউড়া স্থলবন্দর দিয়ে ভারত-বাংলাদেশের মধ্যে পণ্য আমদানি-রপ্তানি বাণিজ্য বন্ধ রয়েছে।আখাউড়া স্থলবন্দরের সিঅ্যান্ডএফ এজেন্ট অ্যাসোসিয়েশনের সাবেক সাধারণ সম্পাদক মো. হাবিবুর রহমানের মৃত্যুর কারণে বৃহস্পতিবার বন্দরে আমদানি-রপ্তানি বাণিজ্য বন্ধ করা হয়।অন্যদিকে আগামীকাল শুক্রবার সাপ্তাহিক ছুটিতে বন্ধ থাকবে বন্দরের আমদানি-রপ্তানি বাণিজ্য কার্যক্রম। তবে বাণিজ্য বন্ধ থাকলেও ইমিগ্রেশন চেকপোস্ট এবং কাস্টমস ও বন্দরের সব কার্যক্রম স্বাভাবিক রয়েছে।আখাউড়া স্থলবন্দরের সিঅ্যান্ডএফ এজেন্ট অ্যাসোসিয়েশনের সভাপতি মোবারক হোসেন ভূঁইয়া ও আমদানি-রপ্তানি অ্যাসোসিয়েশনের সাধারণ সম্পাদক সফিকুল ইসলাম বিষয়টি যুগান্তরকে নিশ্চিত করেন।তারা জানান, অসুস্থজনিত কারণে ২৮ ডিসেম্বর আখাউড়া স্থলবন্দর সিঅ্যান্ডএফ ব্যবসায়ী ও সাবেক সাধারণ সম্পাদক হাবিবুর রহমান মৃত্যুবরণ করেন। তার মৃত্যুতে বন্দরের ব্যবসায়ীরা শোকাহত। তার প্রতি শ্রদ্ধা নিবেদনস্বরূপ বৃহস্পতিবার সকাল থেকে বন্দর দিয়ে পণ্য আমদানি-রপ্তানি না করার সিদ্ধান্ত নিয়ে আগেই ভারতীয় ব্যবসায়ীদের জানিয়ে দেওয়া হয়।আগামীকাল শুক্রবার আখাউড়া স্থলবন্দর সাপ্তাহিক বন্ধ থাকবে। পর দিন শনিবার সকাল থেকে আমদানি-রপ্তানি বাণিজ্য ফের শুরু হবে।আখাউড়া স্থলবন্দর কাস্টমস সুপারিন্টেনডেন্ট মোহাম্মদ কামরুজ্জামান যুগান্তরকে বলেন, ব্যবসায়ীর মৃত্যুতে বন্দর দিয়ে ভারত-বাংলাদেশের মধ্যে পণ্য আমদানি-রপ্তানি বাণিজ্য বন্ধ থাকলেও কাস্টমস ও বন্দরের সব কার্যক্রম স্বাভাবিক রয়েছে।তবে দুদিন আমদানি-রপ্তানি বাণিজ্য কার্যক্রম বন্ধ থাকলেও ইমিগ্রেশন চেকপোস্ট সীমান্তপথে পাসপোর্টধারী যাত্রী পারাপার স্বাভাবিক থাকবে বলে ইমিগ্রেশন ইনচার্জ আব্দুল হামিদ যুগান্তরকে নিশ্চিত করেছেন।'"
      ]
     },
     "execution_count": 8,
     "metadata": {},
     "output_type": "execute_result"
    }
   ],
   "source": [
    "html2=requests.get(links[0]).content\n",
    "html=bs(html2,\"html.parser\")\n",
    "title=html.find('h3',class_=\"font-weight-bolder\").text\n",
    "date=html.find_all('div',class_=\"col-12 col-sm-12 col-md-6\")\n",
    "date[0].text.replace(\"\\n\\xa0:\",\"\").replace('যুগান্তর রিপোর্ট','').replace('\\xa0|\\xa0','').replace('অনলাইন সংস্করণ','').split(',')[0].strip()\n",
    "news=html.find('div',class_='IfTxty news-element-text text-justify my-2 pr-md-4 text-break').text.replace('\\n','').replace('\\xa0','').replace('\\t','').replace('\\r','')\n",
    "\n",
    "news"
   ]
  },
  {
   "cell_type": "code",
   "execution_count": null,
   "metadata": {},
   "outputs": [],
   "source": [
    "count=0\n",
    "titles=[]\n",
    "dates=[]\n",
    "news=[]\n",
    "link=[]\n",
    "cetegory=[]\n",
    "\n",
    "for i in links:\n",
    "    if count==795:\n",
    "        break\n",
    "    else:\n",
    "        try:\n",
    "            html2=requests.get(i).content\n",
    "            html=bs(html2,\"html.parser\")\n",
    "            title=html.find('h3',class_=\"font-weight-bolder\").text\n",
    "            date=html.find_all('div',class_=\"col-12 col-sm-12 col-md-6\")\n",
    "            date=date[0].text.replace(\"\\n\\xa0:\",\"\").replace('যুগান্তর রিপোর্ট','').replace('\\xa0|\\xa0','').replace('অনলাইন সংস্করণ','').split(',')[0].strip()\n",
    "            description=html.find('div',class_='IfTxty news-element-text text-justify my-2 pr-md-4 text-break').text.replace('\\n','').replace('\\xa0','').replace('\\t','').replace('\\r','')\n",
    "\n",
    "            titles.append(title)\n",
    "            dates.append(date)\n",
    "            news.append(description)\n",
    "            link.append(i)\n",
    "            cetegory.append('অর্থনীতি')\n",
    "\n",
    "            # print(count)\n",
    "            # print(title)\n",
    "            # print(date)\n",
    "            # print(description)\n",
    "        except:\n",
    "            print(f'error{count}')\n",
    "           \n",
    "\n",
    "        # print(count)\n",
    "        # print(title)\n",
    "        # print(date)\n",
    "        # print(description)\n",
    "        count+=1\n"
   ]
  },
  {
   "cell_type": "code",
   "execution_count": 10,
   "metadata": {},
   "outputs": [],
   "source": [
    "df=pd.DataFrame({'Title':titles,'Link':link,'Description':news,'Date':dates,'Category':cetegory})\n",
    "df.to_csv(r'C:\\Users\\Amzad\\Desktop\\jugantor_eco-1.csv',index=False)"
   ]
  }
 ],
 "metadata": {
  "kernelspec": {
   "display_name": "base",
   "language": "python",
   "name": "python3"
  },
  "language_info": {
   "codemirror_mode": {
    "name": "ipython",
    "version": 3
   },
   "file_extension": ".py",
   "mimetype": "text/x-python",
   "name": "python",
   "nbconvert_exporter": "python",
   "pygments_lexer": "ipython3",
   "version": "3.9.12"
  },
  "orig_nbformat": 4,
  "vscode": {
   "interpreter": {
    "hash": "4ef60fdc05b8c9d7c00029e41ed6e96799336c5489ef8cc1e2e0d70e844fa01c"
   }
  }
 },
 "nbformat": 4,
 "nbformat_minor": 2
}
