{
  "cells": [
    {
      "cell_type": "code",
      "execution_count": null,
      "metadata": {
        "id": "DLyS04C3aUI4"
      },
      "outputs": [],
      "source": [
        "from bs4 import BeautifulSoup as bs \n",
        "import requests \n",
        "import numpy as np \n",
        "import pandas as pd\n",
        "links=[]"
      ]
    },
    {
      "cell_type": "code",
      "execution_count": null,
      "metadata": {
        "id": "t6lEyXvgcceW"
      },
      "outputs": [],
      "source": [
        "for i in range(2,1000):\n",
        "  html2=requests.get(\"https://www.bd-pratidin.com/economy/\"+str(i*14)).content\n",
        "  html=bs(html2,\"html.parser\")\n",
        "  a=html.find_all('a')\n",
        "  for i in a:\n",
        "    links.append(i.get('href'))"
      ]
    },
    {
      "cell_type": "code",
      "execution_count": null,
      "metadata": {
        "colab": {
          "base_uri": "https://localhost:8080/"
        },
        "id": "6OTZBb1QVAAX",
        "outputId": "d840ac18-f1f6-4116-9572-36935a102c33"
      },
      "outputs": [],
      "source": [
        "len(links)"
      ]
    },
    {
      "cell_type": "code",
      "execution_count": null,
      "metadata": {
        "id": "7LAf-yuHgnC3"
      },
      "outputs": [],
      "source": [
        "links=list(set(links))"
      ]
    },
    {
      "cell_type": "code",
      "execution_count": null,
      "metadata": {
        "colab": {
          "base_uri": "https://localhost:8080/"
        },
        "id": "EKb_gT9VhGWu",
        "outputId": "6a5645c7-00be-42b6-9aaf-b918963ee659"
      },
      "outputs": [],
      "source": [
        "len(links)"
      ]
    },
    {
      "cell_type": "code",
      "execution_count": null,
      "metadata": {
        "id": "zJEg0QYwhvv8"
      },
      "outputs": [],
      "source": [
        "main_links=[]\n",
        "for i in links:\n",
        "  main_links.append('https://www.bd-pratidin.com/'+str(i))\n",
        "main_links"
      ]
    },
    {
      "cell_type": "code",
      "execution_count": null,
      "metadata": {
        "colab": {
          "base_uri": "https://localhost:8080/"
        },
        "id": "grkYzoLJbzju",
        "outputId": "8c0a2727-9592-4541-c8ee-781d5b910679"
      },
      "outputs": [],
      "source": [
        "url='https://www.bd-pratidin.com/economy/2022/01/03/726981'\n",
        "\n",
        "r=requests.get(url).content\n",
        "soup=bs(r,\"html.parser\")\n",
        "title=soup.find('h1').text.replace('\\n','')\n",
        "date=soup.find_all('span')[2].text\n",
        "news=soup.find_all('p')\n",
        "test=''\n",
        "for i in news: \n",
        "  test+=i.get_text().strip()\n",
        "  #print(i.get_text())\n",
        "print(test)"
      ]
    },
    {
      "cell_type": "code",
      "execution_count": null,
      "metadata": {
        "id": "eyjLWEPti7NY"
      },
      "outputs": [],
      "source": [
        "count=0\n",
        "titles=[]\n",
        "dates=[]\n",
        "news=[]\n",
        "link=[]\n",
        "cetegory=[]\n",
        "\n",
        "for i in main_links:\n",
        "    if count==1500:\n",
        "        break\n",
        "    else:\n",
        "        try:\n",
        "            r=requests.get(url).content\n",
        "            soup=bs(r,\"html.parser\")\n",
        "            title=soup.find('h1').text.replace('\\n','')\n",
        "            date=soup.find_all('span')[2].text\n",
        "            new=soup.find_all('p')\n",
        "            description=''\n",
        "            for i in new: \n",
        "              description+=i.get_text().strip()\n",
        "            # print(count)\n",
        "            # print(title)\n",
        "            # print(date)\n",
        "            # print(description)\n",
        "        except:\n",
        "            print(f'error{count}')\n",
        "           \n",
        "\n",
        "        titles.append(title)\n",
        "        dates.append(date)\n",
        "        news.append(description)\n",
        "        link.append(i)\n",
        "        cetegory.append('অর্থনীতি')\n",
        "        # print(count)\n",
        "        # print(title)\n",
        "        # print(date)\n",
        "        # print(description)\n",
        "        count+=1\n"
      ]
    },
    {
      "cell_type": "code",
      "execution_count": null,
      "metadata": {
        "colab": {
          "base_uri": "https://localhost:8080/"
        },
        "id": "MzUmr5-Vo5qu",
        "outputId": "9c841bee-696a-4b90-a453-870187c65b3c"
      },
      "outputs": [],
      "source": [
        "print(news[:15])"
      ]
    },
    {
      "cell_type": "code",
      "execution_count": null,
      "metadata": {
        "colab": {
          "base_uri": "https://localhost:8080/"
        },
        "id": "CYu3wOFumQBM",
        "outputId": "9fccaf6b-fb17-4f50-d35c-06f7d2a364f8"
      },
      "outputs": [],
      "source": [
        "print(len(titles))\n",
        "print(len(dates))\n",
        "print(len(news))\n",
        "print(len(link))"
      ]
    },
    {
      "cell_type": "code",
      "execution_count": null,
      "metadata": {
        "id": "zaBssV5Oluhl"
      },
      "outputs": [],
      "source": [
        "df=pd.DataFrame({'Title':titles,'Link':link,'Description':news,'Date':dates,'Category':cetegory})\n",
        "df.to_csv(r'/content/drive/MyDrive/bangladesh-protidin_eco.csv',index=False)"
      ]
    }
  ],
  "metadata": {
    "colab": {
      "provenance": []
    },
    "kernelspec": {
      "display_name": "base",
      "language": "python",
      "name": "python3"
    },
    "language_info": {
      "codemirror_mode": {
        "name": "ipython",
        "version": 3
      },
      "file_extension": ".py",
      "mimetype": "text/x-python",
      "name": "python",
      "nbconvert_exporter": "python",
      "pygments_lexer": "ipython3",
      "version": "3.9.12"
    },
    "vscode": {
      "interpreter": {
        "hash": "4ef60fdc05b8c9d7c00029e41ed6e96799336c5489ef8cc1e2e0d70e844fa01c"
      }
    }
  },
  "nbformat": 4,
  "nbformat_minor": 0
}
