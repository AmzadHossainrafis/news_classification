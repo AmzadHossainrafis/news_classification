{
  "cells": [
    {
      "cell_type": "code",
      "execution_count": null,
      "metadata": {
        "id": "SzRkSukuANh-"
      },
      "outputs": [],
      "source": [
        "from bs4 import BeautifulSoup as bs \n",
        "import requests \n",
        "import numpy as np \n",
        "import pandas as pd\n",
        "from tqdm import tqdm \n",
        "links=[]"
      ]
    },
    {
      "cell_type": "code",
      "execution_count": null,
      "metadata": {
        "colab": {
          "base_uri": "https://localhost:8080/"
        },
        "id": "5_c9Gx0QAV-P",
        "outputId": "908a3ade-cc27-4c99-881d-3bf9af9f4739"
      },
      "outputs": [],
      "source": [
        "for i in tqdm(range(2,500)):\n",
        "  html2=requests.get(\"https://biniyougbarta.com/category/%E0%A6%9C%E0%A6%BE%E0%A6%A4%E0%A7%80%E0%A6%AF%E0%A6%BC-%E0%A6%85%E0%A6%B0%E0%A7%8D%E0%A6%A5%E0%A6%AC%E0%A6%BE%E0%A6%A3%E0%A6%BF%E0%A6%9C%E0%A7%8D%E0%A6%AF/\"+str(i*8)).content\n",
        "  html=bs(html2,\"html.parser\")\n",
        "  a=html.find_all('a')\n",
        "  for i in a:\n",
        "    links.append(i.get('href'))"
      ]
    },
    {
      "cell_type": "code",
      "execution_count": null,
      "metadata": {
        "id": "v28itCxLG3CO"
      },
      "outputs": [],
      "source": [
        "links=list(set(links))"
      ]
    },
    {
      "cell_type": "code",
      "execution_count": null,
      "metadata": {
        "colab": {
          "base_uri": "https://localhost:8080/",
          "height": 109
        },
        "id": "47EHZbcAHwXH",
        "outputId": "6454af27-b13f-4c45-a68a-4e2332268a4b"
      },
      "outputs": [],
      "source": [
        "html2=requests.get(links[0]).content\n",
        "html=bs(html2,\"html.parser\")\n",
        "title=html.find('h1').text\n",
        "date=html.find('div',class_='date').text.strip()\n",
        "p=html.find('div',id='DetailsNews').text.replace('\\n','').replace('নিজস্ব প্রতিনিধি:','').replace('বিনিয়োগবার্তা/ডিএফই//','').strip()\n",
        "\n"
      ]
    },
    {
      "cell_type": "code",
      "execution_count": null,
      "metadata": {
        "id": "JYoanKo_Iqs9"
      },
      "outputs": [],
      "source": [
        "count=0\n",
        "titles=[]\n",
        "dates=[]\n",
        "news=[]\n",
        "link=[]\n",
        "cetegory=[]\n",
        "\n",
        "for i in links:\n",
        "    if count==15:\n",
        "        break\n",
        "    # elif count%500==0:\n",
        "    #   df=pd.DataFrame({'Title':titles,'Link':link,'Description':news,'Date':dates,'Category':cetegory})\n",
        "    #   df.to_csv(r'./biniyougbarta_eco.csv',index=False)\n",
        "      \n",
        "    else:\n",
        "        try:\n",
        "            html2=requests.get(i).content\n",
        "            html=bs(html2,\"html.parser\")\n",
        "            title=html.find('h1').text\n",
        "            date=html.find('div',class_='date').text.strip()\n",
        "            description=html.find('div',id='DetailsNews').text.replace('\\n','').replace('নিজস্ব প্রতিনিধি','').replace('বিনিয়োগবার্তা:','').replace('নিজস্ব প্রতিবেদক:','').replace('নিজস্ব প্রতিবেদক,','').strip()\n",
        "\n",
        "            print(count)\n",
        "            print(title)\n",
        "            print(date)\n",
        "            print(description)\n",
        "            titles.append(title)\n",
        "            dates.append(date)\n",
        "            news.append(description)\n",
        "            link.append(i)\n",
        "            cetegory.append('অর্থনীতি')\n",
        "        except:\n",
        "            print(f'error{count}')\n",
        "           \n",
        "\n",
        "\n",
        "        # print(count)\n",
        "        # print(title)\n",
        "        # print(date)\n",
        "        # print(description)\n",
        "        count+=1\n"
      ]
    },
    {
      "cell_type": "code",
      "execution_count": null,
      "metadata": {
        "id": "aQmO5BYPRjdj"
      },
      "outputs": [],
      "source": [
        "df=pd.DataFrame({'Title':titles,'Link':link,'Description':news,'Date':dates,'Category':cetegory})\n",
        "df.to_csv(r'/content/drive/MyDrive/biniyougbarta_eco.csv',index=False)"
      ]
    }
  ],
  "metadata": {
    "colab": {
      "provenance": []
    },
    "kernelspec": {
      "display_name": "base",
      "language": "python",
      "name": "python3"
    },
    "language_info": {
      "codemirror_mode": {
        "name": "ipython",
        "version": 3
      },
      "file_extension": ".py",
      "mimetype": "text/x-python",
      "name": "python",
      "nbconvert_exporter": "python",
      "pygments_lexer": "ipython3",
      "version": "3.9.12"
    },
    "vscode": {
      "interpreter": {
        "hash": "4ef60fdc05b8c9d7c00029e41ed6e96799336c5489ef8cc1e2e0d70e844fa01c"
      }
    }
  },
  "nbformat": 4,
  "nbformat_minor": 0
}
