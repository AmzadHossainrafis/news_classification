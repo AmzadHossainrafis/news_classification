{
  "cells": [
    {
      "cell_type": "code",
      "execution_count": null,
      "metadata": {
        "id": "R1WY53P0-ZVj"
      },
      "outputs": [],
      "source": [
        "import pandas as pd \n",
        "import numpy as np \n",
        "import matplotlib.pyplot as plt \n",
        "import os "
      ]
    },
    {
      "cell_type": "code",
      "execution_count": 11,
      "metadata": {
        "id": "X8Z38jcE-ZVl"
      },
      "outputs": [],
      "source": [
        "labels=[\"ক্রেডিট রেটিং\",\"পর্ষদ সভা\",\"ইপিএস\",\"প্রান্তিক প্রকাশ\",\"পিই রেশিও\",\"ডিভিডেন্ড\",\"ব্লক মার্কেট\",\"স্পট মার্কেট\",\"লভ্যাংশ ঘোষণা\"]"
      ]
    },
    {
      "cell_type": "code",
      "execution_count": null,
      "metadata": {
        "id": "VxeUulc--ZVm"
      },
      "outputs": [],
      "source": [
        "df=pd.read_csv(\"jugantor_stock_market.csv\")"
      ]
    },
    {
      "cell_type": "code",
      "execution_count": null,
      "metadata": {
        "id": "3VJQmczS-hnX"
      },
      "outputs": [],
      "source": [
        "# merge title and description \n",
        "df['Title']=df['Title'].astype(str)\n",
        "df['Description']=df['Description'].astype(str)\n",
        "df['title_description']=df['Title']+\" \"+df['Description']"
      ]
    },
    {
      "cell_type": "code",
      "execution_count": null,
      "metadata": {},
      "outputs": [],
      "source": [
        "df.head()"
      ]
    },
    {
      "cell_type": "code",
      "execution_count": null,
      "metadata": {
        "id": "roLO5bZh-kYn"
      },
      "outputs": [],
      "source": [
        "for l in labels:\n",
        "    df[l] = df['title_description'].str.contains(l)\n",
        "    df[l] = df[l].astype(int)"
      ]
    },
    {
      "cell_type": "code",
      "execution_count": null,
      "metadata": {},
      "outputs": [],
      "source": [
        "df.head(100)"
      ]
    },
    {
      "cell_type": "code",
      "execution_count": 14,
      "metadata": {},
      "outputs": [
        {
          "name": "stdout",
          "output_type": "stream",
          "text": [
            "(998, 5)\n",
            "(4999, 5)\n",
            "(4754, 5)\n",
            "(1036, 5)\n",
            "(5752, 5)\n",
            "(7778, 5)\n",
            "(260, 5)\n",
            "(416, 5)\n",
            "(25, 5)\n",
            "(400, 5)\n",
            "(8992, 5)\n"
          ]
        }
      ],
      "source": [
        "#append all csv files in a folder \n",
        "import glob\n",
        "import pandas as pd\n",
        "\n",
        "path = r'C:\\Users\\Amzad\\Desktop\\csvs\\row_data' # use your path\n",
        "all_files = glob.glob(path + \"/*.csv\")\n",
        "\n",
        "for i in all_files:\n",
        "    #stack all the rows of all the csv files\n",
        "    df=pd.read_csv(i)\n",
        "    print(df.shape)         \n",
        "\n",
        "df = pd.concat((pd.read_csv(f) for f in all_files), ignore_index=True)\n"
      ]
    },
    {
      "cell_type": "code",
      "execution_count": 17,
      "metadata": {},
      "outputs": [
        {
          "data": {
            "text/plain": [
              "(35410, 5)"
            ]
          },
          "execution_count": 17,
          "metadata": {},
          "output_type": "execute_result"
        }
      ],
      "source": [
        "df.shape"
      ]
    },
    {
      "cell_type": "code",
      "execution_count": 19,
      "metadata": {},
      "outputs": [],
      "source": [
        "def make_label(df,labels,save_path,save_name):\n",
        "    df['Title']=df['Title'].astype(str)\n",
        "    df['Description']=df['Description'].astype(str)\n",
        "    df['title_description']=df['Title']+\" \"+df['Description']\n",
        "    for l in labels:\n",
        "        df[l] = df['title_description'].str.contains(l)\n",
        "        df[l] = df[l].astype(int)\n",
        "\n",
        "    #drop title-description column\n",
        "    df.drop(['title_description'],axis=1,inplace=True)\n",
        "    df.to_csv(os.path.join(save_path,save_name),index=False)\n",
        "\n",
        "\n",
        "\n"
      ]
    },
    {
      "cell_type": "code",
      "execution_count": 21,
      "metadata": {},
      "outputs": [],
      "source": [
        "#label df with make_label function\n",
        "\n",
        "labels=[\"ক্রেডিট রেটিং\",\"পর্ষদ সভা\",\"ইপিএস\",\"প্রান্তিক প্রকাশ\",\"পিই রেশিও\",\"ডিভিডেন্ড\",\"ব্লক মার্কেট\",\"স্পট মার্কেট\",\"লভ্যাংশ ঘোষণা\"]\n",
        "save_path=r'C:\\Users\\Amzad\\Desktop\\csvs\\labeled_data'\n",
        "save_name=r'all_new_label.csv'\n",
        "\n",
        "make_label(df,labels,save_path,save_name)"
      ]
    },
    {
      "cell_type": "code",
      "execution_count": null,
      "metadata": {},
      "outputs": [],
      "source": [
        "df=pd.read_csv(r'labeled_data/all_new_label.csv')"
      ]
    }
  ],
  "metadata": {
    "colab": {
      "provenance": []
    },
    "kernelspec": {
      "display_name": "base",
      "language": "python",
      "name": "python3"
    },
    "language_info": {
      "codemirror_mode": {
        "name": "ipython",
        "version": 3
      },
      "file_extension": ".py",
      "mimetype": "text/x-python",
      "name": "python",
      "nbconvert_exporter": "python",
      "pygments_lexer": "ipython3",
      "version": "3.9.12"
    },
    "orig_nbformat": 4,
    "vscode": {
      "interpreter": {
        "hash": "4ef60fdc05b8c9d7c00029e41ed6e96799336c5489ef8cc1e2e0d70e844fa01c"
      }
    }
  },
  "nbformat": 4,
  "nbformat_minor": 0
}
