{
  "cells": [
    {
      "cell_type": "code",
      "execution_count": null,
      "metadata": {
        "id": "SeWZiSrNcxLr"
      },
      "outputs": [],
      "source": [
        "#!pip install simpletransformers\n",
        "from config import *\n",
        "import pandas as pd\n",
        "from utils import *\n",
        "import logging\n",
        "from sklearn.model_selection import train_test_split \n",
        "from sklearn.pipeline import Pipeline \n",
        "from simpletransformers.classification import (\n",
        "    MultiLabelClassificationModel, MultiLabelClassificationArgs\n",
        ")\n",
        "\n",
        "\n",
        "\n",
        "logging.basicConfig(level=logging.INFO)\n",
        "transformers_logger = logging.getLogger(\"transformers\")\n",
        "transformers_logger.setLevel(logging.WARNING)"
      ]
    },
    {
      "cell_type": "code",
      "execution_count": null,
      "metadata": {
        "id": "Pxi6dbCVdjlq"
      },
      "outputs": [],
      "source": [
        "data_dir='/content/drive/MyDrive/data_folder/data_with_15%_no_label.csv'\n",
        "df = pd.read_csv(data_dir,encoding='utf-8')\n",
        "\n",
        "\n",
        "input_data=df['Title_description']\n",
        "targets =df[label_['label_list']]"
      ]
    },
    {
      "cell_type": "code",
      "execution_count": null,
      "metadata": {},
      "outputs": [],
      "source": [
        "# set up ppreprocessing pipeline \n",
        "preprocessing_pipeline = Pipeline([\n",
        "    ('remove_numbers', remove_numbers),\n",
        "    ('remove_extra_spaces', remove_extra_spaces),\n",
        "    ('remove_english_words', remove_english_words),\n",
        "    ('remove_stopwords', remove_stopwords),\n",
        "    ('remove_perenthesis', remove_perenthesis),\n",
        "    ('remove_prone', remove_prone),\n",
        "    ('remove_symbols', remove_symbols),\n",
        "    ('remove_dash', remove_dash),\n",
        "    ('remove_3rdbreket', remove_3rdbreket),\n",
        "])"
      ]
    },
    {
      "cell_type": "code",
      "execution_count": null,
      "metadata": {
        "colab": {
          "base_uri": "https://localhost:8080/",
          "height": 363
        },
        "id": "rzncJBSunPVN",
        "outputId": "ba05140f-86fb-4b51-a6a1-1a89a05b640c"
      },
      "outputs": [
        {
          "data": {
            "text/html": [
              "\n",
              "  <div id=\"df-24c5a98c-ca70-43a6-a58e-4ab930787736\">\n",
              "    <div class=\"colab-df-container\">\n",
              "      <div>\n",
              "<style scoped>\n",
              "    .dataframe tbody tr th:only-of-type {\n",
              "        vertical-align: middle;\n",
              "    }\n",
              "\n",
              "    .dataframe tbody tr th {\n",
              "        vertical-align: top;\n",
              "    }\n",
              "\n",
              "    .dataframe thead th {\n",
              "        text-align: right;\n",
              "    }\n",
              "</style>\n",
              "<table border=\"1\" class=\"dataframe\">\n",
              "  <thead>\n",
              "    <tr style=\"text-align: right;\">\n",
              "      <th></th>\n",
              "      <th>Title_description</th>\n",
              "      <th>lebel</th>\n",
              "    </tr>\n",
              "  </thead>\n",
              "  <tbody>\n",
              "    <tr>\n",
              "      <th>0</th>\n",
              "      <td>১০ মাস ধরে উৎপাদন বন্ধ বিডি ওয়েল্ডিং অস্তিত্ব ...</td>\n",
              "      <td>[0, 0, 0, 0, 0, 0, 0, 0, 1]</td>\n",
              "    </tr>\n",
              "    <tr>\n",
              "      <th>1</th>\n",
              "      <td>এসইএমএল গ্রোথ ফান্ডের চাঁদা গ্রহণ চলছে: এসইএমএ...</td>\n",
              "      <td>[0, 0, 0, 0, 0, 0, 0, 0, 0]</td>\n",
              "    </tr>\n",
              "    <tr>\n",
              "      <th>2</th>\n",
              "      <td>জিএসপি ফাইনান্সের লভ্যাংশ ঘোষণা: ব্যাংক বহির্...</td>\n",
              "      <td>[0, 0, 0, 0, 0, 0, 0, 0, 1]</td>\n",
              "    </tr>\n",
              "    <tr>\n",
              "      <th>3</th>\n",
              "      <td>যমুনা অয়েলের শেয়ারপ্রতি আয় ব্যাপক বেড়েছে: শেয়া...</td>\n",
              "      <td>[0, 1, 1, 0, 0, 0, 0, 0, 0]</td>\n",
              "    </tr>\n",
              "    <tr>\n",
              "      <th>4</th>\n",
              "      <td>৬ কোম্পানির আয়-ব্যয়ের হিসাব প্রকাশ: পুঁজিবাজার...</td>\n",
              "      <td>[0, 0, 1, 0, 0, 0, 0, 0, 0]</td>\n",
              "    </tr>\n",
              "    <tr>\n",
              "      <th>5</th>\n",
              "      <td>৭ কোম্পানির আর্থিক প্রতিবেদন প্রকাশ: দ্বিতীয় প...</td>\n",
              "      <td>[0, 0, 1, 0, 0, 0, 0, 0, 0]</td>\n",
              "    </tr>\n",
              "    <tr>\n",
              "      <th>6</th>\n",
              "      <td>ক্ষতিগ্রস্ত কোটার মেয়াদ বাড়লো ১ বছর: শেয়ারবিজন...</td>\n",
              "      <td>[0, 0, 0, 0, 0, 0, 0, 0, 0]</td>\n",
              "    </tr>\n",
              "    <tr>\n",
              "      <th>7</th>\n",
              "      <td>জিকিউ বলপেনের শেয়ারদর বেড়েছে ৭.৫৫%: ঢাকা স্টক ...</td>\n",
              "      <td>[1, 0, 1, 0, 0, 0, 0, 0, 0]</td>\n",
              "    </tr>\n",
              "    <tr>\n",
              "      <th>8</th>\n",
              "      <td>মুনাফা কমেছে ফু-ওয়াং ফুডের: শেয়ারবাজারে তালিকা...</td>\n",
              "      <td>[0, 0, 1, 0, 0, 0, 0, 0, 0]</td>\n",
              "    </tr>\n",
              "    <tr>\n",
              "      <th>9</th>\n",
              "      <td>ভালো লভ্যাংশের গুজবে রিপাবলিক ইন্স্যুরেন্সের দ...</td>\n",
              "      <td>[0, 0, 0, 0, 0, 0, 0, 0, 1]</td>\n",
              "    </tr>\n",
              "  </tbody>\n",
              "</table>\n",
              "</div>\n",
              "      <button class=\"colab-df-convert\" onclick=\"convertToInteractive('df-24c5a98c-ca70-43a6-a58e-4ab930787736')\"\n",
              "              title=\"Convert this dataframe to an interactive table.\"\n",
              "              style=\"display:none;\">\n",
              "        \n",
              "  <svg xmlns=\"http://www.w3.org/2000/svg\" height=\"24px\"viewBox=\"0 0 24 24\"\n",
              "       width=\"24px\">\n",
              "    <path d=\"M0 0h24v24H0V0z\" fill=\"none\"/>\n",
              "    <path d=\"M18.56 5.44l.94 2.06.94-2.06 2.06-.94-2.06-.94-.94-2.06-.94 2.06-2.06.94zm-11 1L8.5 8.5l.94-2.06 2.06-.94-2.06-.94L8.5 2.5l-.94 2.06-2.06.94zm10 10l.94 2.06.94-2.06 2.06-.94-2.06-.94-.94-2.06-.94 2.06-2.06.94z\"/><path d=\"M17.41 7.96l-1.37-1.37c-.4-.4-.92-.59-1.43-.59-.52 0-1.04.2-1.43.59L10.3 9.45l-7.72 7.72c-.78.78-.78 2.05 0 2.83L4 21.41c.39.39.9.59 1.41.59.51 0 1.02-.2 1.41-.59l7.78-7.78 2.81-2.81c.8-.78.8-2.07 0-2.86zM5.41 20L4 18.59l7.72-7.72 1.47 1.35L5.41 20z\"/>\n",
              "  </svg>\n",
              "      </button>\n",
              "      \n",
              "  <style>\n",
              "    .colab-df-container {\n",
              "      display:flex;\n",
              "      flex-wrap:wrap;\n",
              "      gap: 12px;\n",
              "    }\n",
              "\n",
              "    .colab-df-convert {\n",
              "      background-color: #E8F0FE;\n",
              "      border: none;\n",
              "      border-radius: 50%;\n",
              "      cursor: pointer;\n",
              "      display: none;\n",
              "      fill: #1967D2;\n",
              "      height: 32px;\n",
              "      padding: 0 0 0 0;\n",
              "      width: 32px;\n",
              "    }\n",
              "\n",
              "    .colab-df-convert:hover {\n",
              "      background-color: #E2EBFA;\n",
              "      box-shadow: 0px 1px 2px rgba(60, 64, 67, 0.3), 0px 1px 3px 1px rgba(60, 64, 67, 0.15);\n",
              "      fill: #174EA6;\n",
              "    }\n",
              "\n",
              "    [theme=dark] .colab-df-convert {\n",
              "      background-color: #3B4455;\n",
              "      fill: #D2E3FC;\n",
              "    }\n",
              "\n",
              "    [theme=dark] .colab-df-convert:hover {\n",
              "      background-color: #434B5C;\n",
              "      box-shadow: 0px 1px 3px 1px rgba(0, 0, 0, 0.15);\n",
              "      filter: drop-shadow(0px 1px 2px rgba(0, 0, 0, 0.3));\n",
              "      fill: #FFFFFF;\n",
              "    }\n",
              "  </style>\n",
              "\n",
              "      <script>\n",
              "        const buttonEl =\n",
              "          document.querySelector('#df-24c5a98c-ca70-43a6-a58e-4ab930787736 button.colab-df-convert');\n",
              "        buttonEl.style.display =\n",
              "          google.colab.kernel.accessAllowed ? 'block' : 'none';\n",
              "\n",
              "        async function convertToInteractive(key) {\n",
              "          const element = document.querySelector('#df-24c5a98c-ca70-43a6-a58e-4ab930787736');\n",
              "          const dataTable =\n",
              "            await google.colab.kernel.invokeFunction('convertToInteractive',\n",
              "                                                     [key], {});\n",
              "          if (!dataTable) return;\n",
              "\n",
              "          const docLinkHtml = 'Like what you see? Visit the ' +\n",
              "            '<a target=\"_blank\" href=https://colab.research.google.com/notebooks/data_table.ipynb>data table notebook</a>'\n",
              "            + ' to learn more about interactive tables.';\n",
              "          element.innerHTML = '';\n",
              "          dataTable['output_type'] = 'display_data';\n",
              "          await google.colab.output.renderOutput(dataTable, element);\n",
              "          const docLink = document.createElement('div');\n",
              "          docLink.innerHTML = docLinkHtml;\n",
              "          element.appendChild(docLink);\n",
              "        }\n",
              "      </script>\n",
              "    </div>\n",
              "  </div>\n",
              "  "
            ],
            "text/plain": [
              "                                   Title_description  \\\n",
              "0  ১০ মাস ধরে উৎপাদন বন্ধ বিডি ওয়েল্ডিং অস্তিত্ব ...   \n",
              "1  এসইএমএল গ্রোথ ফান্ডের চাঁদা গ্রহণ চলছে: এসইএমএ...   \n",
              "2  জিএসপি ফাইনান্সের লভ্যাংশ ঘোষণা: ব্যাংক বহির্...   \n",
              "3  যমুনা অয়েলের শেয়ারপ্রতি আয় ব্যাপক বেড়েছে: শেয়া...   \n",
              "4  ৬ কোম্পানির আয়-ব্যয়ের হিসাব প্রকাশ: পুঁজিবাজার...   \n",
              "5  ৭ কোম্পানির আর্থিক প্রতিবেদন প্রকাশ: দ্বিতীয় প...   \n",
              "6  ক্ষতিগ্রস্ত কোটার মেয়াদ বাড়লো ১ বছর: শেয়ারবিজন...   \n",
              "7  জিকিউ বলপেনের শেয়ারদর বেড়েছে ৭.৫৫%: ঢাকা স্টক ...   \n",
              "8  মুনাফা কমেছে ফু-ওয়াং ফুডের: শেয়ারবাজারে তালিকা...   \n",
              "9  ভালো লভ্যাংশের গুজবে রিপাবলিক ইন্স্যুরেন্সের দ...   \n",
              "\n",
              "                         lebel  \n",
              "0  [0, 0, 0, 0, 0, 0, 0, 0, 1]  \n",
              "1  [0, 0, 0, 0, 0, 0, 0, 0, 0]  \n",
              "2  [0, 0, 0, 0, 0, 0, 0, 0, 1]  \n",
              "3  [0, 1, 1, 0, 0, 0, 0, 0, 0]  \n",
              "4  [0, 0, 1, 0, 0, 0, 0, 0, 0]  \n",
              "5  [0, 0, 1, 0, 0, 0, 0, 0, 0]  \n",
              "6  [0, 0, 0, 0, 0, 0, 0, 0, 0]  \n",
              "7  [1, 0, 1, 0, 0, 0, 0, 0, 0]  \n",
              "8  [0, 0, 1, 0, 0, 0, 0, 0, 0]  \n",
              "9  [0, 0, 0, 0, 0, 0, 0, 0, 1]  "
            ]
          },
          "execution_count": 4,
          "metadata": {},
          "output_type": "execute_result"
        }
      ],
      "source": [
        "#print 10 rows of targets with loc \n",
        "col_list=bert_label_maker(targets) \n",
        "#preprocessing the title_description \n",
        "input_data=preprocessing_pipeline.fit_transform(input_data)\n",
        "# if your are having any problem with the preprocessing pipeline use preprocess_news function \n",
        "#input_data=preprocess_news(input_data)\n",
        "\n",
        "\n",
        "df['lebel']=col_list \n",
        "\n",
        "new_df=pd.DataFrame({'Title_description':input_data,'lebel':col_list})\n",
        "new_df=new_df.dropna()\n",
        "new_df=new_df.reset_index(drop=True)\n",
        "new_df.head(10)"
      ]
    },
    {
      "cell_type": "code",
      "execution_count": null,
      "metadata": {
        "colab": {
          "base_uri": "https://localhost:8080/"
        },
        "id": "0DYAKt0ufL4B",
        "outputId": "d0108a9d-f1aa-4a2f-af3b-6050e627411a"
      },
      "outputs": [
        {
          "data": {
            "text/plain": [
              "(8238, 2)"
            ]
          },
          "execution_count": 15,
          "metadata": {},
          "output_type": "execute_result"
        }
      ],
      "source": [
        "\n",
        "train, eval = train_test_split(new_df, test_size=split_config['test_size'], random_state=split_config['random_state'])   \n",
        "train.shape"
      ]
    },
    {
      "cell_type": "code",
      "execution_count": null,
      "metadata": {
        "colab": {
          "base_uri": "https://localhost:8080/"
        },
        "id": "t__2i0UhfhpJ",
        "outputId": "1e58324b-d459-44a2-c107-22f08f40d3b9"
      },
      "outputs": [
        {
          "name": "stderr",
          "output_type": "stream",
          "text": [
            "Some weights of the model checkpoint at sagorsarker/bangla-bert-base were not used when initializing BertForMultiLabelSequenceClassification: ['cls.predictions.decoder.weight', 'cls.predictions.transform.LayerNorm.weight', 'cls.predictions.transform.dense.weight', 'cls.predictions.bias', 'cls.predictions.transform.LayerNorm.bias', 'cls.seq_relationship.weight', 'cls.seq_relationship.bias', 'cls.predictions.transform.dense.bias']\n",
            "- This IS expected if you are initializing BertForMultiLabelSequenceClassification from the checkpoint of a model trained on another task or with another architecture (e.g. initializing a BertForSequenceClassification model from a BertForPreTraining model).\n",
            "- This IS NOT expected if you are initializing BertForMultiLabelSequenceClassification from the checkpoint of a model that you expect to be exactly identical (initializing a BertForSequenceClassification model from a BertForSequenceClassification model).\n",
            "Some weights of BertForMultiLabelSequenceClassification were not initialized from the model checkpoint at sagorsarker/bangla-bert-base and are newly initialized: ['classifier.bias', 'classifier.weight']\n",
            "You should probably TRAIN this model on a down-stream task to be able to use it for predictions and inference.\n"
          ]
        }
      ],
      "source": [
        "model = MultiLabelClassificationModel(\n",
        "     bert_model_config['model_type'], bert_model_config['model_name'],\n",
        "    num_labels=num_labels,args=simple_transformer_config\n",
        "  \n",
        ")"
      ]
    },
    {
      "cell_type": "code",
      "execution_count": null,
      "metadata": {
        "colab": {
          "base_uri": "https://localhost:8080/"
        },
        "id": "h6Ji6fyUf9rY",
        "outputId": "84cd8e7f-75c6-4414-be13-33515aa7b050"
      },
      "outputs": [
        {
          "name": "stderr",
          "output_type": "stream",
          "text": [
            "/usr/local/lib/python3.8/dist-packages/simpletransformers/classification/classification_model.py:612: UserWarning: Dataframe headers not specified. Falling back to using column 0 as text and column 1 as labels.\n",
            "  warnings.warn(\n",
            "Saving vocabulary to /content/drive/MyDrive/news_data/checkpoint-1030-epoch-1/vocab.txt: vocabulary indices are not consecutive. Please check that the vocabulary is not corrupted!\n",
            "Saving vocabulary to /content/drive/MyDrive/news_data/checkpoint-1030-epoch-1/vocab.txt: vocabulary indices are not consecutive. Please check that the vocabulary is not corrupted!\n",
            "Saving vocabulary to /content/drive/MyDrive/news_data/checkpoint-1030-epoch-1/vocab.txt: vocabulary indices are not consecutive. Please check that the vocabulary is not corrupted!\n",
            "Saving vocabulary to /content/drive/MyDrive/news_data/checkpoint-1030-epoch-1/vocab.txt: vocabulary indices are not consecutive. Please check that the vocabulary is not corrupted!\n",
            "Saving vocabulary to /content/drive/MyDrive/news_data/checkpoint-1030-epoch-1/vocab.txt: vocabulary indices are not consecutive. Please check that the vocabulary is not corrupted!\n",
            "Saving vocabulary to /content/drive/MyDrive/news_data/checkpoint-1030-epoch-1/vocab.txt: vocabulary indices are not consecutive. Please check that the vocabulary is not corrupted!\n",
            "Saving vocabulary to /content/drive/MyDrive/news_data/checkpoint-1030-epoch-1/vocab.txt: vocabulary indices are not consecutive. Please check that the vocabulary is not corrupted!\n",
            "Saving vocabulary to /content/drive/MyDrive/news_data/checkpoint-1030-epoch-1/vocab.txt: vocabulary indices are not consecutive. Please check that the vocabulary is not corrupted!\n",
            "Saving vocabulary to /content/drive/MyDrive/news_data/checkpoint-1030-epoch-1/vocab.txt: vocabulary indices are not consecutive. Please check that the vocabulary is not corrupted!\n",
            "Saving vocabulary to /content/drive/MyDrive/news_data/checkpoint-1030-epoch-1/vocab.txt: vocabulary indices are not consecutive. Please check that the vocabulary is not corrupted!\n",
            "Saving vocabulary to /content/drive/MyDrive/news_data/checkpoint-2000/vocab.txt: vocabulary indices are not consecutive. Please check that the vocabulary is not corrupted!\n",
            "Saving vocabulary to /content/drive/MyDrive/news_data/checkpoint-2000/vocab.txt: vocabulary indices are not consecutive. Please check that the vocabulary is not corrupted!\n",
            "Saving vocabulary to /content/drive/MyDrive/news_data/checkpoint-2000/vocab.txt: vocabulary indices are not consecutive. Please check that the vocabulary is not corrupted!\n",
            "Saving vocabulary to /content/drive/MyDrive/news_data/checkpoint-2000/vocab.txt: vocabulary indices are not consecutive. Please check that the vocabulary is not corrupted!\n",
            "Saving vocabulary to /content/drive/MyDrive/news_data/checkpoint-2000/vocab.txt: vocabulary indices are not consecutive. Please check that the vocabulary is not corrupted!\n",
            "Saving vocabulary to /content/drive/MyDrive/news_data/checkpoint-2000/vocab.txt: vocabulary indices are not consecutive. Please check that the vocabulary is not corrupted!\n",
            "Saving vocabulary to /content/drive/MyDrive/news_data/checkpoint-2000/vocab.txt: vocabulary indices are not consecutive. Please check that the vocabulary is not corrupted!\n",
            "Saving vocabulary to /content/drive/MyDrive/news_data/checkpoint-2000/vocab.txt: vocabulary indices are not consecutive. Please check that the vocabulary is not corrupted!\n",
            "Saving vocabulary to /content/drive/MyDrive/news_data/checkpoint-2000/vocab.txt: vocabulary indices are not consecutive. Please check that the vocabulary is not corrupted!\n",
            "Saving vocabulary to /content/drive/MyDrive/news_data/checkpoint-2000/vocab.txt: vocabulary indices are not consecutive. Please check that the vocabulary is not corrupted!\n",
            "Saving vocabulary to /content/drive/MyDrive/news_data/checkpoint-2060-epoch-2/vocab.txt: vocabulary indices are not consecutive. Please check that the vocabulary is not corrupted!\n",
            "Saving vocabulary to /content/drive/MyDrive/news_data/checkpoint-2060-epoch-2/vocab.txt: vocabulary indices are not consecutive. Please check that the vocabulary is not corrupted!\n",
            "Saving vocabulary to /content/drive/MyDrive/news_data/checkpoint-2060-epoch-2/vocab.txt: vocabulary indices are not consecutive. Please check that the vocabulary is not corrupted!\n",
            "Saving vocabulary to /content/drive/MyDrive/news_data/checkpoint-2060-epoch-2/vocab.txt: vocabulary indices are not consecutive. Please check that the vocabulary is not corrupted!\n",
            "Saving vocabulary to /content/drive/MyDrive/news_data/checkpoint-2060-epoch-2/vocab.txt: vocabulary indices are not consecutive. Please check that the vocabulary is not corrupted!\n",
            "Saving vocabulary to /content/drive/MyDrive/news_data/checkpoint-2060-epoch-2/vocab.txt: vocabulary indices are not consecutive. Please check that the vocabulary is not corrupted!\n",
            "Saving vocabulary to /content/drive/MyDrive/news_data/checkpoint-2060-epoch-2/vocab.txt: vocabulary indices are not consecutive. Please check that the vocabulary is not corrupted!\n",
            "Saving vocabulary to /content/drive/MyDrive/news_data/checkpoint-2060-epoch-2/vocab.txt: vocabulary indices are not consecutive. Please check that the vocabulary is not corrupted!\n",
            "Saving vocabulary to /content/drive/MyDrive/news_data/checkpoint-2060-epoch-2/vocab.txt: vocabulary indices are not consecutive. Please check that the vocabulary is not corrupted!\n",
            "Saving vocabulary to /content/drive/MyDrive/news_data/checkpoint-2060-epoch-2/vocab.txt: vocabulary indices are not consecutive. Please check that the vocabulary is not corrupted!\n",
            "Saving vocabulary to /content/drive/MyDrive/news_data/vocab.txt: vocabulary indices are not consecutive. Please check that the vocabulary is not corrupted!\n",
            "Saving vocabulary to /content/drive/MyDrive/news_data/vocab.txt: vocabulary indices are not consecutive. Please check that the vocabulary is not corrupted!\n",
            "Saving vocabulary to /content/drive/MyDrive/news_data/vocab.txt: vocabulary indices are not consecutive. Please check that the vocabulary is not corrupted!\n",
            "Saving vocabulary to /content/drive/MyDrive/news_data/vocab.txt: vocabulary indices are not consecutive. Please check that the vocabulary is not corrupted!\n",
            "Saving vocabulary to /content/drive/MyDrive/news_data/vocab.txt: vocabulary indices are not consecutive. Please check that the vocabulary is not corrupted!\n",
            "Saving vocabulary to /content/drive/MyDrive/news_data/vocab.txt: vocabulary indices are not consecutive. Please check that the vocabulary is not corrupted!\n",
            "Saving vocabulary to /content/drive/MyDrive/news_data/vocab.txt: vocabulary indices are not consecutive. Please check that the vocabulary is not corrupted!\n",
            "Saving vocabulary to /content/drive/MyDrive/news_data/vocab.txt: vocabulary indices are not consecutive. Please check that the vocabulary is not corrupted!\n",
            "Saving vocabulary to /content/drive/MyDrive/news_data/vocab.txt: vocabulary indices are not consecutive. Please check that the vocabulary is not corrupted!\n",
            "Saving vocabulary to /content/drive/MyDrive/news_data/vocab.txt: vocabulary indices are not consecutive. Please check that the vocabulary is not corrupted!\n"
          ]
        },
        {
          "data": {
            "text/plain": [
              "(2060, 0.07479254769577275)"
            ]
          },
          "execution_count": 27,
          "metadata": {},
          "output_type": "execute_result"
        }
      ],
      "source": [
        "model.train_model(train)"
      ]
    },
    {
      "cell_type": "code",
      "execution_count": null,
      "metadata": {
        "colab": {
          "base_uri": "https://localhost:8080/"
        },
        "id": "yRgjcPzKgVZY",
        "outputId": "8104f37b-3784-46c1-9748-3b9faefec442"
      },
      "outputs": [
        {
          "name": "stderr",
          "output_type": "stream",
          "text": [
            "/usr/local/lib/python3.8/dist-packages/simpletransformers/classification/classification_model.py:1454: UserWarning: Dataframe headers not specified. Falling back to using column 0 as text and column 1 as labels.\n",
            "  warnings.warn(\n"
          ]
        }
      ],
      "source": [
        "result, model_outputs, wrong_predictions = model.eval_model(eval)"
      ]
    },
    {
      "cell_type": "code",
      "execution_count": null,
      "metadata": {
        "colab": {
          "base_uri": "https://localhost:8080/"
        },
        "id": "ECQncU5kOWF1",
        "outputId": "69fdbde2-d487-484a-de90-6bbdb5a879b9"
      },
      "outputs": [
        {
          "name": "stdout",
          "output_type": "stream",
          "text": [
            "{'LRAP': 0.978943304877883, 'eval_loss': 0.05170597892980209}\n",
            "[[2.85530090e-03 9.96093750e-01 9.96093750e-01 ... 3.27301025e-03\n",
            "  1.73377991e-03 4.38308716e-03]\n",
            " [6.71863556e-04 6.31332397e-04 1.09481812e-03 ... 3.24964523e-04\n",
            "  5.48362732e-04 1.74140930e-03]\n",
            " [1.15585327e-03 1.83105469e-03 4.66537476e-03 ... 5.02014160e-03\n",
            "  1.23023987e-03 9.96093750e-01]\n",
            " ...\n",
            " [9.44824219e-01 8.06427002e-03 9.97558594e-01 ... 3.55148315e-03\n",
            "  5.34439087e-03 7.54928589e-03]\n",
            " [9.85839844e-01 4.77218628e-03 6.46209717e-03 ... 4.23049927e-03\n",
            "  3.82423401e-03 4.48608398e-03]\n",
            " [4.65631485e-04 9.98535156e-01 1.11579895e-03 ... 6.43730164e-04\n",
            "  4.10795212e-04 7.88688660e-04]]\n"
          ]
        }
      ],
      "source": [
        "print(result)\n",
        "print(model_outputs)\n"
      ]
    },
    {
      "cell_type": "markdown",
      "metadata": {
        "id": "HjdTLmjFOV3E"
      },
      "source": []
    },
    {
      "cell_type": "code",
      "execution_count": null,
      "metadata": {},
      "outputs": [],
      "source": [
        "news=\"রেইসের ফান্ডের লভ্যাংশ ঘোষণা: পুঁজিবাজারের তালিকাভুক্ত মিউচ্যুয়াল ফান্ডের ইউনিট হোল্ডারদের লভ্যাংশ ঘোষণা ট্রাস্টি। গত রোববার ফান্ডগুলোর ট্রাস্টি সভায় জুন সমাপ্ত হিসাব বছরের লভ্যাংশ ঘোষণা হয়। ফান্ডের লভ্যাংশের রেকর্ড ডেট ঘোষণা সেপ্টেম্বর।এবি ব্যাংক ফার্স্ট মিউচ্যুয়াল, ইবিএল এনআরবি মিউচ্যুয়াল ফান্ড, পপুলার লাইফ ফার্স্ট মিউচ্যুয়াল ফান্ড, পিএইচপি ফার্স্ট মিউচ্যুয়াল ফান্ড, ইবিএল ফার্স্ট মিউচ্যুয়াল ফান্ড, ট্রাস্ট ব্যাংক ফার্স্ট মিউচ্যুয়াল ফান্ড, আইএফআইসি ব্যাংক ফার্স্ট মিউচ্যুয়াল ফান্ড, এক্সিম ব্যাংক ফার্স্ট মিউচ্যুয়াল ফান্ড, ফার্স্ট বাংলাদেশ ফিক্সড ইনকাম ফান্ড ফার্স্ট জনতা ব্যাংক মিউচ্যুয়াল ফান্ডের ইউনিট হোল্ডারদের লভ্যাংশ ঘোষণা হয়েছে। ফান্ডগুলোর ফান্ডের ইউনিট হোল্ডারদের শতাংশ, তিনটির শতাংশ, দুটির শতাংশ চারটি ফান্ডের ইউনিট হোল্ডারদের শতাংশ লভ্যাংশ ঘোষণা ট্রাস্টি। পুরোটাই রি-ইনভেস্টমেন্ট ইউনিট।তথ্য মতে, এবি ব্যাংক ফার্স্ট মিউচ্যুয়াল ফান্ডের ট্রাস্টি ইউনিট হোল্ডারদের শতাংশ লভ্যাংশ ঘোষণা করেছে। আলোচিত সময়ে ফান্ডটির ইউনিট আয় পয়সা। ইউনিট কস্ট প্রাইস টাকা পয়সা। বাজারমূল্য ফান্ডটির এনএভি টাকা পয়সা।ইবিএল এনআরবি মিউচ্যুয়াল ফান্ডের ট্রাস্টি ইউনিট হোল্ডারদের শতাংশ লভ্যাংশ ঘোষণা করেছে। আলোচিত সময়ে ফান্ডটির ইউনিট আয় পয়সা। ইউনিট কস্ট প্রাইস টাকা পয়সা। বাজারমূল্য ফান্ডটির এনএভি টাকা পয়সা।পপুলার লাইফ ফার্স্ট মিউচ্যুয়াল ফান্ডের ট্রাস্টি ইউনিট হোল্ডারদের শতাংশ লভ্যাংশ ঘোষণা করেছে। আলোচিত সময়ে ফান্ডটির ইউনিট আয় পয়সা। ইউনিট কস্ট প্রাইস টাকা পয়সা। বাজারমূল্য ফান্ডটির এনএভি টাকা পয়সা।পিএইচপি ফার্স্ট মিউচ্যুয়াল ফান্ডের ট্রাস্টি ইউনিট হোল্ডারদের শতাংশ লভ্যাংশ ঘোষণা করেছে। আলোচিত সময়ে ফান্ডটির ইউনিট আয় পয়সা। ইউনিট কস্ট প্রাইস টাকা পয়সা। বাজারমূল্য ফান্ডটির এনএভি টাকা পয়সা।ইবিএল ফার্স্ট মিউচ্যুয়াল ফান্ডের ট্রাস্টি ইউনিট হোল্ডারদের শতাংশ লভ্যাংশ ঘোষণা করেছে। আলোচিত সময়ে ফান্ডটির ইউনিট আয় পয়সা। ইউনিট কস্ট প্রাইস টাকা পয়সা। বাজারমূল্য ফান্ডটির এনএভি টাকা পয়সা।ট্রাস্ট ব্যাংক ফার্স্ট মিউচ্যুয়াল ফান্ডের ট্রাস্টি ইউনিট হোল্ডারদের শতাংশ লভ্যাংশ ঘোষণা করেছে। আলোচিত সময়ে ফান্ডটির ইউনিট আয় পয়সা। ইউনিট কস্ট প্রাইস টাকা পয়সা। বাজারমূল্য ফান্ডটির এনএভি টাকা পয়সা।আইএফআইসি ব্যাংক ফার্স্ট মিউচ্যুয়াল ফান্ডের ট্রাস্টি ইউনিট হোল্ডারদের শতাংশ লভ্যাংশ ঘোষণা করেছে। আলোচিত সময়ে ফান্ডটির ইউনিট আয় পয়সা। ইউনিট কস্ট প্রাইস টাকা পয়সা। বাজারমূল্য ফান্ডটির এনএভি টাকা পয়সা।এক্সিম ব্যাংক ফার্স্ট মিউচ্যুয়াল ফান্ডের ট্রাস্টি ইউনিট হোল্ডারদের শতাংশ লভ্যাংশ ঘোষণা করেছে। আলোচিত সময়ে ফান্ডটির ইউনিট আয় পয়সা। ইউনিট কস্ট প্রাইস টাকা পয়সা। বাজারমূল্য ফান্ডটির এনএভি টাকা।ফার্স্ট বাংলাদেশ ফিক্সড ইনকাম ফান্ডের ট্রাস্টি ইউনিট হোল্ডারদের শতাংশ লভ্যাংশ ঘোষণা করেছে। আলোচিত সময়ে ফান্ডটির ইউনিট আয় পয়সা। ইউনিট কস্ট প্রাইস টাকা পয়সা। বাজারমূল্য ফান্ডটির এনএভি টাকা পয়সা।ফার্স্ট জনতা ব্যাংক মিউচ্যুয়াল ফান্ডের ট্রাস্টি ইউনিট হোল্ডারদের শতাংশ লভ্যাংশ ঘোষণা করেছে। আলোচিত সময়ে ফান্ডটির ইউনিট আয় পয়সা। ইউনিট কস্ট প্রাইস টাকা পয়সা। বাজারমূল্য ফান্ডটির এনএভি টাকা পয়সা।\"\n",
        "\n",
        "#preprocess news\n",
        "news= preprocess_news(news)\n",
        "\n",
        "#preprocess news with pipeline \n",
        "\n"
      ]
    },
    {
      "cell_type": "code",
      "execution_count": null,
      "metadata": {
        "id": "6kkHsNFnPhrT"
      },
      "outputs": [],
      "source": [
        "predictions, raw_outputs = model.predict([\"রেইসের ফান্ডের লভ্যাংশ ঘোষণা: পুঁজিবাজারের তালিকাভুক্ত মিউচ্যুয়াল ফান্ডের ইউনিট হোল্ডারদের লভ্যাংশ ঘোষণা ট্রাস্টি। গত রোববার ফান্ডগুলোর ট্রাস্টি সভায় জুন সমাপ্ত হিসাব বছরের লভ্যাংশ ঘোষণা হয়। ফান্ডের লভ্যাংশের রেকর্ড ডেট ঘোষণা সেপ্টেম্বর।এবি ব্যাংক ফার্স্ট মিউচ্যুয়াল, ইবিএল এনআরবি মিউচ্যুয়াল ফান্ড, পপুলার লাইফ ফার্স্ট মিউচ্যুয়াল ফান্ড, পিএইচপি ফার্স্ট মিউচ্যুয়াল ফান্ড, ইবিএল ফার্স্ট মিউচ্যুয়াল ফান্ড, ট্রাস্ট ব্যাংক ফার্স্ট মিউচ্যুয়াল ফান্ড, আইএফআইসি ব্যাংক ফার্স্ট মিউচ্যুয়াল ফান্ড, এক্সিম ব্যাংক ফার্স্ট মিউচ্যুয়াল ফান্ড, ফার্স্ট বাংলাদেশ ফিক্সড ইনকাম ফান্ড ফার্স্ট জনতা ব্যাংক মিউচ্যুয়াল ফান্ডের ইউনিট হোল্ডারদের লভ্যাংশ ঘোষণা হয়েছে। ফান্ডগুলোর ফান্ডের ইউনিট হোল্ডারদের শতাংশ, তিনটির শতাংশ, দুটির শতাংশ চারটি ফান্ডের ইউনিট হোল্ডারদের শতাংশ লভ্যাংশ ঘোষণা ট্রাস্টি। পুরোটাই রি-ইনভেস্টমেন্ট ইউনিট।তথ্য মতে, এবি ব্যাংক ফার্স্ট মিউচ্যুয়াল ফান্ডের ট্রাস্টি ইউনিট হোল্ডারদের শতাংশ লভ্যাংশ ঘোষণা করেছে। আলোচিত সময়ে ফান্ডটির ইউনিট আয় পয়সা। ইউনিট কস্ট প্রাইস টাকা পয়সা। বাজারমূল্য ফান্ডটির এনএভি টাকা পয়সা।ইবিএল এনআরবি মিউচ্যুয়াল ফান্ডের ট্রাস্টি ইউনিট হোল্ডারদের শতাংশ লভ্যাংশ ঘোষণা করেছে। আলোচিত সময়ে ফান্ডটির ইউনিট আয় পয়সা। ইউনিট কস্ট প্রাইস টাকা পয়সা। বাজারমূল্য ফান্ডটির এনএভি টাকা পয়সা।পপুলার লাইফ ফার্স্ট মিউচ্যুয়াল ফান্ডের ট্রাস্টি ইউনিট হোল্ডারদের শতাংশ লভ্যাংশ ঘোষণা করেছে। আলোচিত সময়ে ফান্ডটির ইউনিট আয় পয়সা। ইউনিট কস্ট প্রাইস টাকা পয়সা। বাজারমূল্য ফান্ডটির এনএভি টাকা পয়সা।পিএইচপি ফার্স্ট মিউচ্যুয়াল ফান্ডের ট্রাস্টি ইউনিট হোল্ডারদের শতাংশ লভ্যাংশ ঘোষণা করেছে। আলোচিত সময়ে ফান্ডটির ইউনিট আয় পয়সা। ইউনিট কস্ট প্রাইস টাকা পয়সা। বাজারমূল্য ফান্ডটির এনএভি টাকা পয়সা।ইবিএল ফার্স্ট মিউচ্যুয়াল ফান্ডের ট্রাস্টি ইউনিট হোল্ডারদের শতাংশ লভ্যাংশ ঘোষণা করেছে। আলোচিত সময়ে ফান্ডটির ইউনিট আয় পয়সা। ইউনিট কস্ট প্রাইস টাকা পয়সা। বাজারমূল্য ফান্ডটির এনএভি টাকা পয়সা।ট্রাস্ট ব্যাংক ফার্স্ট মিউচ্যুয়াল ফান্ডের ট্রাস্টি ইউনিট হোল্ডারদের শতাংশ লভ্যাংশ ঘোষণা করেছে। আলোচিত সময়ে ফান্ডটির ইউনিট আয় পয়সা। ইউনিট কস্ট প্রাইস টাকা পয়সা। বাজারমূল্য ফান্ডটির এনএভি টাকা পয়সা।আইএফআইসি ব্যাংক ফার্স্ট মিউচ্যুয়াল ফান্ডের ট্রাস্টি ইউনিট হোল্ডারদের শতাংশ লভ্যাংশ ঘোষণা করেছে। আলোচিত সময়ে ফান্ডটির ইউনিট আয় পয়সা। ইউনিট কস্ট প্রাইস টাকা পয়সা। বাজারমূল্য ফান্ডটির এনএভি টাকা পয়সা।এক্সিম ব্যাংক ফার্স্ট মিউচ্যুয়াল ফান্ডের ট্রাস্টি ইউনিট হোল্ডারদের শতাংশ লভ্যাংশ ঘোষণা করেছে। আলোচিত সময়ে ফান্ডটির ইউনিট আয় পয়সা। ইউনিট কস্ট প্রাইস টাকা পয়সা। বাজারমূল্য ফান্ডটির এনএভি টাকা।ফার্স্ট বাংলাদেশ ফিক্সড ইনকাম ফান্ডের ট্রাস্টি ইউনিট হোল্ডারদের শতাংশ লভ্যাংশ ঘোষণা করেছে। আলোচিত সময়ে ফান্ডটির ইউনিট আয় পয়সা। ইউনিট কস্ট প্রাইস টাকা পয়সা। বাজারমূল্য ফান্ডটির এনএভি টাকা পয়সা।ফার্স্ট জনতা ব্যাংক মিউচ্যুয়াল ফান্ডের ট্রাস্টি ইউনিট হোল্ডারদের শতাংশ লভ্যাংশ ঘোষণা করেছে। আলোচিত সময়ে ফান্ডটির ইউনিট আয় পয়সা। ইউনিট কস্ট প্রাইস টাকা পয়সা। বাজারমূল্য ফান্ডটির এনএভি টাকা পয়সা।\"])"
      ]
    },
    {
      "cell_type": "code",
      "execution_count": null,
      "metadata": {
        "colab": {
          "base_uri": "https://localhost:8080/"
        },
        "id": "D8ViJhkhQIYR",
        "outputId": "f5987fd9-82b0-47e4-b6e2-6e50256c04f3"
      },
      "outputs": [
        {
          "data": {
            "text/plain": [
              "[[0, 0, 0, 0, 0, 0, 0, 0, 1]]"
            ]
          },
          "execution_count": 19,
          "metadata": {},
          "output_type": "execute_result"
        }
      ],
      "source": [
        "predictions"
      ]
    },
    {
      "cell_type": "code",
      "execution_count": null,
      "metadata": {
        "id": "yJLXbAd2QKN6"
      },
      "outputs": [],
      "source": []
    }
  ],
  "metadata": {
    "accelerator": "GPU",
    "colab": {
      "provenance": []
    },
    "gpuClass": "standard",
    "kernelspec": {
      "display_name": "Python 3",
      "name": "python3"
    },
    "language_info": {
      "name": "python"
    }
  },
  "nbformat": 4,
  "nbformat_minor": 0
}
