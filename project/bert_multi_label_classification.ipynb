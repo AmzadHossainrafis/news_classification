{
  "cells": [
    {
      "cell_type": "code",
      "execution_count": 1,
      "metadata": {
        "id": "SeWZiSrNcxLr"
      },
      "outputs": [],
      "source": [
        "#!pip install simpletransformers\n",
        "from config import *\n",
        "import pandas as pd\n",
        "from utils import *\n",
        "import logging\n",
        "from sklearn.model_selection import train_test_split \n",
        "from simpletransformers.classification import (\n",
        "    MultiLabelClassificationModel, MultiLabelClassificationArgs\n",
        ")\n",
        "\n",
        "\n",
        "\n",
        "logging.basicConfig(level=logging.INFO)\n",
        "transformers_logger = logging.getLogger(\"transformers\")\n",
        "transformers_logger.setLevel(logging.WARNING)"
      ]
    },
    {
      "cell_type": "code",
      "execution_count": 44,
      "metadata": {
        "id": "Pxi6dbCVdjlq"
      },
      "outputs": [],
      "source": [
        "data_dir=list_dir['data_dir']\n",
        "df = pd.read_csv(data_dir,encoding='utf-8')\n",
        "\n",
        "\n",
        "input_data=df['Title_description']\n",
        "targets =df[label_['label_list']]"
      ]
    },
    {
      "cell_type": "code",
      "execution_count": 45,
      "metadata": {},
      "outputs": [
        {
          "data": {
            "text/plain": [
              "'৯ কোম্পানি জানালো পর্ষদ সভার তারিখ: শেয়ারবাজারে তালিকাভুক্ত ৯টি কোম্পানির পরিচালনা পর্ষদ তাদের প্রান্তিক প্রতিবেদন প্রকাশ সংক্রান্ত পরিচালনা পর্ষদ সভার তারিখ ঘোণষা করেছে।বুধবার (১৯ জানুয়ারি) ঢাকা স্টক এক্সচেঞ্জ (ডিএসই) সূত্রে এ তথ্য জানা গেছে। কোম্পানিগুলো হলো- আরএন স্পিনিং, দেশবন্ধু পলিমার, তমিজউদ্দিন টেক্সটাইল, ফার কেমিক্যাল, এমএল ডাইং, মুন্নু সিরামিক, মুন্নু ফেব্রিক্স, মুন্নু এগ্রো ও রানার অটোমোবাইল।কোম্পানিগুলোর মধ্যে আরএন স্পিনিংয়ের বোর্ড সভা ২৪ জানুয়ারি বিকাল ৩টায়, দেশবন্ধু পলিমারের ২৪ জানুয়ারি বিকাল সাড়ে ৩টায়, তমিজউদ্দিন টেক্সটাইলের ২৫ জানুয়ারি বিকাল সাড়ে ৩টায়, ফার কেমিক্যালের ২৪ জানুয়ারি বিকাল ৪টায়, এমএল ডাইংয়ের ২৪ জানুয়ারি বিকাল সাড়ে ৩টায়, মুন্নু সিরামিকের ২৫ জানুয়ারি সন্ধ্যা ৬টায়, মুন্নু ফেব্রিক্সের ২৫ জানুয়ারি বিকাল সাড়ে ৪টায়, মুন্নু এগ্রোর ২৫ জানুয়ারি বিকাল সাড়ে ৩টায় এবং রানার অটোমোবাইলের ২৪ জানুয়ারি বিকাল ৩টায় অনুষ্ঠিত হবে।কোম্পানিগুলোর বোর্ড সভায় ৩১ ডিসেম্বর ২০২১ সমাপ্ত ছয় মাসের অনিরীক্ষিত আর্থিক প্রতিবেদন পর্যালোচনা করে তা শেয়ারহোল্ডারদের জন্য প্রকাশ করা হবে।'"
            ]
          },
          "execution_count": 45,
          "metadata": {},
          "output_type": "execute_result"
        }
      ],
      "source": [
        "input_data[45]"
      ]
    },
    {
      "cell_type": "code",
      "execution_count": 46,
      "metadata": {},
      "outputs": [],
      "source": [
        "# set up ppreprocessing pipeline \n",
        "def remove_stopwords(text):\n",
        "    text = ' '.join([word for word in text.split() if word not in pre_process_config['stop_word']])\n",
        "    return text\n",
        "\n",
        "input_data = input_data.apply(lemmatize_text)\n",
        "input_data= input_data.apply(remove_prone)\n",
        "input_data = input_data.apply(remove_numbers)\n",
        "input_data = input_data.apply(remove_english_words)\n",
        "input_data = input_data.apply(remove_stopwords)\n",
        "input_data = input_data.apply(remove_perenthesis)\n",
        "input_data = input_data.apply(remove_dash)\n",
        "input_data = input_data.apply(remove_extra_spaces)\n",
        "input_data = input_data.apply(remove_3rdbreket)\n",
        "#input_data = input_data.apply(remove_symbols) \n"
      ]
    },
    {
      "cell_type": "code",
      "execution_count": 47,
      "metadata": {},
      "outputs": [
        {
          "data": {
            "text/plain": [
              "'কোম্পানি জানালো পর্ষদ সভার তারিখ: শেয়ারবাজারে তালিকাভুক্ত কোম্পানির পরিচালনা পর্ষদ প্রান্তিক প্রতিবেদন প্রকাশ সংক্রান্ত পরিচালনা পর্ষদ সভার তারিখ ঘোণষা করেছে।বুধবার ঢাকা স্টক এক্সচেঞ্জ সূত্রে তথ্য গেছে। কোম্পানিগুলো হলো- আরএন স্পিনিং, দেশবন্ধু পলিমার, তমিজউদ্দিন টেক্সটাইল, ফার কেমিক্যাল, এমএল ডাইং, মুন্নু সিরামিক, মুন্নু ফেব্রিক্স, মুন্নু এগ্রো রানার অটোমোবাইল।কোম্পানিগুলোর আরএন স্পিনিংয়ের বোর্ড সভা জানুয়ারি বিকাল টায়, দেশবন্ধু পলিমারের জানুয়ারি বিকাল সাড়ে টায়, তমিজউদ্দিন টেক্সটাইলের জানুয়ারি বিকাল সাড়ে টায়, ফার কেমিক্যালের জানুয়ারি বিকাল টায়, এমএল ডাইংয়ের জানুয়ারি বিকাল সাড়ে টায়, মুন্নু সিরামিকের জানুয়ারি সন্ধ্যা টায়, মুন্নু ফেব্রিক্সের জানুয়ারি বিকাল সাড়ে টায়, মুন্নু এগ্রোর জানুয়ারি বিকাল সাড়ে টায় রানার অটোমোবাইলের জানুয়ারি বিকাল টায় অনুষ্ঠিত হবে।কোম্পানিগুলোর বোর্ড সভায় ডিসেম্বর সমাপ্ত ছয় মাসের অনিরীক্ষিত আর্থিক প্রতিবেদন পর্যালোচনা শেয়ারহোল্ডারদের প্রকাশ হবে।'"
            ]
          },
          "execution_count": 47,
          "metadata": {},
          "output_type": "execute_result"
        }
      ],
      "source": [
        "input_data[45]"
      ]
    },
    {
      "cell_type": "code",
      "execution_count": 5,
      "metadata": {
        "colab": {
          "base_uri": "https://localhost:8080/",
          "height": 363
        },
        "id": "rzncJBSunPVN",
        "outputId": "ba05140f-86fb-4b51-a6a1-1a89a05b640c"
      },
      "outputs": [
        {
          "data": {
            "text/html": [
              "<div>\n",
              "<style scoped>\n",
              "    .dataframe tbody tr th:only-of-type {\n",
              "        vertical-align: middle;\n",
              "    }\n",
              "\n",
              "    .dataframe tbody tr th {\n",
              "        vertical-align: top;\n",
              "    }\n",
              "\n",
              "    .dataframe thead th {\n",
              "        text-align: right;\n",
              "    }\n",
              "</style>\n",
              "<table border=\"1\" class=\"dataframe\">\n",
              "  <thead>\n",
              "    <tr style=\"text-align: right;\">\n",
              "      <th></th>\n",
              "      <th>Title_description</th>\n",
              "      <th>lebel</th>\n",
              "    </tr>\n",
              "  </thead>\n",
              "  <tbody>\n",
              "    <tr>\n",
              "      <th>0</th>\n",
              "      <td>মস উৎপদন বনধ বড ওয়লড অসততব সকট শয়রবজরর তলকভকত ...</td>\n",
              "      <td>[0, 0, 0, 0, 0, 0, 0, 0, 1]</td>\n",
              "    </tr>\n",
              "    <tr>\n",
              "      <th>1</th>\n",
              "      <td>এসইএমএল গরথ ফনডর চদ গরহণ চলছ এসইএমএল এফবএলএসএল...</td>\n",
              "      <td>[0, 0, 0, 0, 0, 0, 0, 0, 0]</td>\n",
              "    </tr>\n",
              "    <tr>\n",
              "      <th>2</th>\n",
              "      <td>জএসপ ফইননসর লভযশ ঘষণ বযক বহরভত আরথক খতর কমপন জ...</td>\n",
              "      <td>[0, 0, 0, 0, 0, 0, 0, 0, 1]</td>\n",
              "    </tr>\n",
              "    <tr>\n",
              "      <th>3</th>\n",
              "      <td>যমন অয়লর শয়রপরত আয় বযপক বড়ছ শয়রবজর তলকভকত জবলন...</td>\n",
              "      <td>[0, 1, 1, 0, 0, 0, 0, 0, 0]</td>\n",
              "    </tr>\n",
              "    <tr>\n",
              "      <th>4</th>\n",
              "      <td>কমপনর আয়বযয়র পরকশ পজবজর তলকভকত কমপনর পরচলন পরষ...</td>\n",
              "      <td>[0, 0, 1, 0, 0, 0, 0, 0, 0]</td>\n",
              "    </tr>\n",
              "    <tr>\n",
              "      <th>5</th>\n",
              "      <td>কমপনর আরথক পরতবদন পরকশ দবতয় পরনতকর অনরকষত আরথক...</td>\n",
              "      <td>[0, 0, 1, 0, 0, 0, 0, 0, 0]</td>\n",
              "    </tr>\n",
              "    <tr>\n",
              "      <th>6</th>\n",
              "      <td>কষতগরসত কটর ময়দ বড়ল বছর শয়রবজনস পরতবদক  কষতগরস...</td>\n",
              "      <td>[0, 0, 0, 0, 0, 0, 0, 0, 0]</td>\n",
              "    </tr>\n",
              "    <tr>\n",
              "      <th>7</th>\n",
              "      <td>জকউ বলপনর শয়রদর বড়ছ  ঢক সটক একসচঞজ গতকল জকউ বল...</td>\n",
              "      <td>[1, 0, 1, 0, 0, 0, 0, 0, 0]</td>\n",
              "    </tr>\n",
              "    <tr>\n",
              "      <th>8</th>\n",
              "      <td>মনফ কমছ ফওয় ফডর শয়রবজর তলকভকত ফওয় ফড লমটড চলত ...</td>\n",
              "      <td>[0, 0, 1, 0, 0, 0, 0, 0, 0]</td>\n",
              "    </tr>\n",
              "    <tr>\n",
              "      <th>9</th>\n",
              "      <td>ভল লভযশর গজব রপবলক ইনসযরনসর দর মস দবগন বম খতর ...</td>\n",
              "      <td>[0, 0, 0, 0, 0, 0, 0, 0, 1]</td>\n",
              "    </tr>\n",
              "  </tbody>\n",
              "</table>\n",
              "</div>"
            ],
            "text/plain": [
              "                                   Title_description  \\\n",
              "0  মস উৎপদন বনধ বড ওয়লড অসততব সকট শয়রবজরর তলকভকত ...   \n",
              "1  এসইএমএল গরথ ফনডর চদ গরহণ চলছ এসইএমএল এফবএলএসএল...   \n",
              "2  জএসপ ফইননসর লভযশ ঘষণ বযক বহরভত আরথক খতর কমপন জ...   \n",
              "3  যমন অয়লর শয়রপরত আয় বযপক বড়ছ শয়রবজর তলকভকত জবলন...   \n",
              "4  কমপনর আয়বযয়র পরকশ পজবজর তলকভকত কমপনর পরচলন পরষ...   \n",
              "5  কমপনর আরথক পরতবদন পরকশ দবতয় পরনতকর অনরকষত আরথক...   \n",
              "6  কষতগরসত কটর ময়দ বড়ল বছর শয়রবজনস পরতবদক  কষতগরস...   \n",
              "7  জকউ বলপনর শয়রদর বড়ছ  ঢক সটক একসচঞজ গতকল জকউ বল...   \n",
              "8  মনফ কমছ ফওয় ফডর শয়রবজর তলকভকত ফওয় ফড লমটড চলত ...   \n",
              "9  ভল লভযশর গজব রপবলক ইনসযরনসর দর মস দবগন বম খতর ...   \n",
              "\n",
              "                         lebel  \n",
              "0  [0, 0, 0, 0, 0, 0, 0, 0, 1]  \n",
              "1  [0, 0, 0, 0, 0, 0, 0, 0, 0]  \n",
              "2  [0, 0, 0, 0, 0, 0, 0, 0, 1]  \n",
              "3  [0, 1, 1, 0, 0, 0, 0, 0, 0]  \n",
              "4  [0, 0, 1, 0, 0, 0, 0, 0, 0]  \n",
              "5  [0, 0, 1, 0, 0, 0, 0, 0, 0]  \n",
              "6  [0, 0, 0, 0, 0, 0, 0, 0, 0]  \n",
              "7  [1, 0, 1, 0, 0, 0, 0, 0, 0]  \n",
              "8  [0, 0, 1, 0, 0, 0, 0, 0, 0]  \n",
              "9  [0, 0, 0, 0, 0, 0, 0, 0, 1]  "
            ]
          },
          "execution_count": 5,
          "metadata": {},
          "output_type": "execute_result"
        }
      ],
      "source": [
        "#print 10 rows of targets with loc \n",
        "col_list=bert_label_maker(targets) \n",
        "#input_data=preprocess_news(input_data)\n",
        "df['lebel']=col_list \n",
        "\n",
        "new_df=pd.DataFrame({'Title_description':input_data,'lebel':col_list})\n",
        "new_df=new_df.dropna()\n",
        "new_df=new_df.reset_index(drop=True)\n",
        "new_df.head(10)"
      ]
    },
    {
      "cell_type": "code",
      "execution_count": 6,
      "metadata": {
        "colab": {
          "base_uri": "https://localhost:8080/"
        },
        "id": "0DYAKt0ufL4B",
        "outputId": "d0108a9d-f1aa-4a2f-af3b-6050e627411a"
      },
      "outputs": [
        {
          "data": {
            "text/plain": [
              "(8238, 2)"
            ]
          },
          "execution_count": 6,
          "metadata": {},
          "output_type": "execute_result"
        }
      ],
      "source": [
        "\n",
        "train, eval = train_test_split(new_df, test_size=split_config['test_size'], random_state=split_config['random_state'])   \n",
        "train.shape"
      ]
    },
    {
      "cell_type": "code",
      "execution_count": null,
      "metadata": {
        "colab": {
          "base_uri": "https://localhost:8080/"
        },
        "id": "t__2i0UhfhpJ",
        "outputId": "1e58324b-d459-44a2-c107-22f08f40d3b9"
      },
      "outputs": [
        {
          "name": "stderr",
          "output_type": "stream",
          "text": [
            "Some weights of the model checkpoint at sagorsarker/bangla-bert-base were not used when initializing BertForMultiLabelSequenceClassification: ['cls.predictions.decoder.weight', 'cls.predictions.transform.LayerNorm.weight', 'cls.predictions.transform.dense.weight', 'cls.predictions.bias', 'cls.predictions.transform.LayerNorm.bias', 'cls.seq_relationship.weight', 'cls.seq_relationship.bias', 'cls.predictions.transform.dense.bias']\n",
            "- This IS expected if you are initializing BertForMultiLabelSequenceClassification from the checkpoint of a model trained on another task or with another architecture (e.g. initializing a BertForSequenceClassification model from a BertForPreTraining model).\n",
            "- This IS NOT expected if you are initializing BertForMultiLabelSequenceClassification from the checkpoint of a model that you expect to be exactly identical (initializing a BertForSequenceClassification model from a BertForSequenceClassification model).\n",
            "Some weights of BertForMultiLabelSequenceClassification were not initialized from the model checkpoint at sagorsarker/bangla-bert-base and are newly initialized: ['classifier.bias', 'classifier.weight']\n",
            "You should probably TRAIN this model on a down-stream task to be able to use it for predictions and inference.\n"
          ]
        }
      ],
      "source": [
        "model = MultiLabelClassificationModel(\n",
        "     bert_model_config['model_type'], bert_model_config['model_name'],\n",
        "    num_labels=num_labels,args=simple_transformer_config\n",
        "  \n",
        ")"
      ]
    },
    {
      "cell_type": "code",
      "execution_count": null,
      "metadata": {
        "colab": {
          "base_uri": "https://localhost:8080/"
        },
        "id": "h6Ji6fyUf9rY",
        "outputId": "84cd8e7f-75c6-4414-be13-33515aa7b050"
      },
      "outputs": [
        {
          "name": "stderr",
          "output_type": "stream",
          "text": [
            "/usr/local/lib/python3.8/dist-packages/simpletransformers/classification/classification_model.py:612: UserWarning: Dataframe headers not specified. Falling back to using column 0 as text and column 1 as labels.\n",
            "  warnings.warn(\n",
            "Saving vocabulary to /content/drive/MyDrive/news_data/checkpoint-1030-epoch-1/vocab.txt: vocabulary indices are not consecutive. Please check that the vocabulary is not corrupted!\n",
            "Saving vocabulary to /content/drive/MyDrive/news_data/checkpoint-1030-epoch-1/vocab.txt: vocabulary indices are not consecutive. Please check that the vocabulary is not corrupted!\n",
            "Saving vocabulary to /content/drive/MyDrive/news_data/checkpoint-1030-epoch-1/vocab.txt: vocabulary indices are not consecutive. Please check that the vocabulary is not corrupted!\n",
            "Saving vocabulary to /content/drive/MyDrive/news_data/checkpoint-1030-epoch-1/vocab.txt: vocabulary indices are not consecutive. Please check that the vocabulary is not corrupted!\n",
            "Saving vocabulary to /content/drive/MyDrive/news_data/checkpoint-1030-epoch-1/vocab.txt: vocabulary indices are not consecutive. Please check that the vocabulary is not corrupted!\n",
            "Saving vocabulary to /content/drive/MyDrive/news_data/checkpoint-1030-epoch-1/vocab.txt: vocabulary indices are not consecutive. Please check that the vocabulary is not corrupted!\n",
            "Saving vocabulary to /content/drive/MyDrive/news_data/checkpoint-1030-epoch-1/vocab.txt: vocabulary indices are not consecutive. Please check that the vocabulary is not corrupted!\n",
            "Saving vocabulary to /content/drive/MyDrive/news_data/checkpoint-1030-epoch-1/vocab.txt: vocabulary indices are not consecutive. Please check that the vocabulary is not corrupted!\n",
            "Saving vocabulary to /content/drive/MyDrive/news_data/checkpoint-1030-epoch-1/vocab.txt: vocabulary indices are not consecutive. Please check that the vocabulary is not corrupted!\n",
            "Saving vocabulary to /content/drive/MyDrive/news_data/checkpoint-1030-epoch-1/vocab.txt: vocabulary indices are not consecutive. Please check that the vocabulary is not corrupted!\n",
            "Saving vocabulary to /content/drive/MyDrive/news_data/checkpoint-2000/vocab.txt: vocabulary indices are not consecutive. Please check that the vocabulary is not corrupted!\n",
            "Saving vocabulary to /content/drive/MyDrive/news_data/checkpoint-2000/vocab.txt: vocabulary indices are not consecutive. Please check that the vocabulary is not corrupted!\n",
            "Saving vocabulary to /content/drive/MyDrive/news_data/checkpoint-2000/vocab.txt: vocabulary indices are not consecutive. Please check that the vocabulary is not corrupted!\n",
            "Saving vocabulary to /content/drive/MyDrive/news_data/checkpoint-2000/vocab.txt: vocabulary indices are not consecutive. Please check that the vocabulary is not corrupted!\n",
            "Saving vocabulary to /content/drive/MyDrive/news_data/checkpoint-2000/vocab.txt: vocabulary indices are not consecutive. Please check that the vocabulary is not corrupted!\n",
            "Saving vocabulary to /content/drive/MyDrive/news_data/checkpoint-2000/vocab.txt: vocabulary indices are not consecutive. Please check that the vocabulary is not corrupted!\n",
            "Saving vocabulary to /content/drive/MyDrive/news_data/checkpoint-2000/vocab.txt: vocabulary indices are not consecutive. Please check that the vocabulary is not corrupted!\n",
            "Saving vocabulary to /content/drive/MyDrive/news_data/checkpoint-2000/vocab.txt: vocabulary indices are not consecutive. Please check that the vocabulary is not corrupted!\n",
            "Saving vocabulary to /content/drive/MyDrive/news_data/checkpoint-2000/vocab.txt: vocabulary indices are not consecutive. Please check that the vocabulary is not corrupted!\n",
            "Saving vocabulary to /content/drive/MyDrive/news_data/checkpoint-2000/vocab.txt: vocabulary indices are not consecutive. Please check that the vocabulary is not corrupted!\n",
            "Saving vocabulary to /content/drive/MyDrive/news_data/checkpoint-2060-epoch-2/vocab.txt: vocabulary indices are not consecutive. Please check that the vocabulary is not corrupted!\n",
            "Saving vocabulary to /content/drive/MyDrive/news_data/checkpoint-2060-epoch-2/vocab.txt: vocabulary indices are not consecutive. Please check that the vocabulary is not corrupted!\n",
            "Saving vocabulary to /content/drive/MyDrive/news_data/checkpoint-2060-epoch-2/vocab.txt: vocabulary indices are not consecutive. Please check that the vocabulary is not corrupted!\n",
            "Saving vocabulary to /content/drive/MyDrive/news_data/checkpoint-2060-epoch-2/vocab.txt: vocabulary indices are not consecutive. Please check that the vocabulary is not corrupted!\n",
            "Saving vocabulary to /content/drive/MyDrive/news_data/checkpoint-2060-epoch-2/vocab.txt: vocabulary indices are not consecutive. Please check that the vocabulary is not corrupted!\n",
            "Saving vocabulary to /content/drive/MyDrive/news_data/checkpoint-2060-epoch-2/vocab.txt: vocabulary indices are not consecutive. Please check that the vocabulary is not corrupted!\n",
            "Saving vocabulary to /content/drive/MyDrive/news_data/checkpoint-2060-epoch-2/vocab.txt: vocabulary indices are not consecutive. Please check that the vocabulary is not corrupted!\n",
            "Saving vocabulary to /content/drive/MyDrive/news_data/checkpoint-2060-epoch-2/vocab.txt: vocabulary indices are not consecutive. Please check that the vocabulary is not corrupted!\n",
            "Saving vocabulary to /content/drive/MyDrive/news_data/checkpoint-2060-epoch-2/vocab.txt: vocabulary indices are not consecutive. Please check that the vocabulary is not corrupted!\n",
            "Saving vocabulary to /content/drive/MyDrive/news_data/checkpoint-2060-epoch-2/vocab.txt: vocabulary indices are not consecutive. Please check that the vocabulary is not corrupted!\n",
            "Saving vocabulary to /content/drive/MyDrive/news_data/vocab.txt: vocabulary indices are not consecutive. Please check that the vocabulary is not corrupted!\n",
            "Saving vocabulary to /content/drive/MyDrive/news_data/vocab.txt: vocabulary indices are not consecutive. Please check that the vocabulary is not corrupted!\n",
            "Saving vocabulary to /content/drive/MyDrive/news_data/vocab.txt: vocabulary indices are not consecutive. Please check that the vocabulary is not corrupted!\n",
            "Saving vocabulary to /content/drive/MyDrive/news_data/vocab.txt: vocabulary indices are not consecutive. Please check that the vocabulary is not corrupted!\n",
            "Saving vocabulary to /content/drive/MyDrive/news_data/vocab.txt: vocabulary indices are not consecutive. Please check that the vocabulary is not corrupted!\n",
            "Saving vocabulary to /content/drive/MyDrive/news_data/vocab.txt: vocabulary indices are not consecutive. Please check that the vocabulary is not corrupted!\n",
            "Saving vocabulary to /content/drive/MyDrive/news_data/vocab.txt: vocabulary indices are not consecutive. Please check that the vocabulary is not corrupted!\n",
            "Saving vocabulary to /content/drive/MyDrive/news_data/vocab.txt: vocabulary indices are not consecutive. Please check that the vocabulary is not corrupted!\n",
            "Saving vocabulary to /content/drive/MyDrive/news_data/vocab.txt: vocabulary indices are not consecutive. Please check that the vocabulary is not corrupted!\n",
            "Saving vocabulary to /content/drive/MyDrive/news_data/vocab.txt: vocabulary indices are not consecutive. Please check that the vocabulary is not corrupted!\n"
          ]
        },
        {
          "data": {
            "text/plain": [
              "(2060, 0.07479254769577275)"
            ]
          },
          "execution_count": 27,
          "metadata": {},
          "output_type": "execute_result"
        }
      ],
      "source": [
        "model.train_model(train)"
      ]
    },
    {
      "cell_type": "code",
      "execution_count": null,
      "metadata": {
        "colab": {
          "base_uri": "https://localhost:8080/"
        },
        "id": "yRgjcPzKgVZY",
        "outputId": "8104f37b-3784-46c1-9748-3b9faefec442"
      },
      "outputs": [
        {
          "name": "stderr",
          "output_type": "stream",
          "text": [
            "/usr/local/lib/python3.8/dist-packages/simpletransformers/classification/classification_model.py:1454: UserWarning: Dataframe headers not specified. Falling back to using column 0 as text and column 1 as labels.\n",
            "  warnings.warn(\n"
          ]
        }
      ],
      "source": [
        "result, model_outputs, wrong_predictions = model.eval_model(eval)"
      ]
    },
    {
      "cell_type": "code",
      "execution_count": null,
      "metadata": {
        "colab": {
          "base_uri": "https://localhost:8080/"
        },
        "id": "ECQncU5kOWF1",
        "outputId": "69fdbde2-d487-484a-de90-6bbdb5a879b9"
      },
      "outputs": [
        {
          "name": "stdout",
          "output_type": "stream",
          "text": [
            "{'LRAP': 0.978943304877883, 'eval_loss': 0.05170597892980209}\n",
            "[[2.85530090e-03 9.96093750e-01 9.96093750e-01 ... 3.27301025e-03\n",
            "  1.73377991e-03 4.38308716e-03]\n",
            " [6.71863556e-04 6.31332397e-04 1.09481812e-03 ... 3.24964523e-04\n",
            "  5.48362732e-04 1.74140930e-03]\n",
            " [1.15585327e-03 1.83105469e-03 4.66537476e-03 ... 5.02014160e-03\n",
            "  1.23023987e-03 9.96093750e-01]\n",
            " ...\n",
            " [9.44824219e-01 8.06427002e-03 9.97558594e-01 ... 3.55148315e-03\n",
            "  5.34439087e-03 7.54928589e-03]\n",
            " [9.85839844e-01 4.77218628e-03 6.46209717e-03 ... 4.23049927e-03\n",
            "  3.82423401e-03 4.48608398e-03]\n",
            " [4.65631485e-04 9.98535156e-01 1.11579895e-03 ... 6.43730164e-04\n",
            "  4.10795212e-04 7.88688660e-04]]\n"
          ]
        }
      ],
      "source": [
        "print(result)\n",
        "print(model_outputs)\n"
      ]
    },
    {
      "cell_type": "markdown",
      "metadata": {
        "id": "HjdTLmjFOV3E"
      },
      "source": []
    },
    {
      "cell_type": "code",
      "execution_count": null,
      "metadata": {},
      "outputs": [],
      "source": [
        "news=\"রেইসের ফান্ডের লভ্যাংশ ঘোষণা: পুঁজিবাজারের তালিকাভুক্ত মিউচ্যুয়াল ফান্ডের ইউনিট হোল্ডারদের লভ্যাংশ ঘোষণা ট্রাস্টি। গত রোববার ফান্ডগুলোর ট্রাস্টি সভায় জুন সমাপ্ত হিসাব বছরের লভ্যাংশ ঘোষণা হয়। ফান্ডের লভ্যাংশের রেকর্ড ডেট ঘোষণা সেপ্টেম্বর।এবি ব্যাংক ফার্স্ট মিউচ্যুয়াল, ইবিএল এনআরবি মিউচ্যুয়াল ফান্ড, পপুলার লাইফ ফার্স্ট মিউচ্যুয়াল ফান্ড, পিএইচপি ফার্স্ট মিউচ্যুয়াল ফান্ড, ইবিএল ফার্স্ট মিউচ্যুয়াল ফান্ড, ট্রাস্ট ব্যাংক ফার্স্ট মিউচ্যুয়াল ফান্ড, আইএফআইসি ব্যাংক ফার্স্ট মিউচ্যুয়াল ফান্ড, এক্সিম ব্যাংক ফার্স্ট মিউচ্যুয়াল ফান্ড, ফার্স্ট বাংলাদেশ ফিক্সড ইনকাম ফান্ড ফার্স্ট জনতা ব্যাংক মিউচ্যুয়াল ফান্ডের ইউনিট হোল্ডারদের লভ্যাংশ ঘোষণা হয়েছে। ফান্ডগুলোর ফান্ডের ইউনিট হোল্ডারদের শতাংশ, তিনটির শতাংশ, দুটির শতাংশ চারটি ফান্ডের ইউনিট হোল্ডারদের শতাংশ লভ্যাংশ ঘোষণা ট্রাস্টি। পুরোটাই রি-ইনভেস্টমেন্ট ইউনিট।তথ্য মতে, এবি ব্যাংক ফার্স্ট মিউচ্যুয়াল ফান্ডের ট্রাস্টি ইউনিট হোল্ডারদের শতাংশ লভ্যাংশ ঘোষণা করেছে। আলোচিত সময়ে ফান্ডটির ইউনিট আয় পয়সা। ইউনিট কস্ট প্রাইস টাকা পয়সা। বাজারমূল্য ফান্ডটির এনএভি টাকা পয়সা।ইবিএল এনআরবি মিউচ্যুয়াল ফান্ডের ট্রাস্টি ইউনিট হোল্ডারদের শতাংশ লভ্যাংশ ঘোষণা করেছে। আলোচিত সময়ে ফান্ডটির ইউনিট আয় পয়সা। ইউনিট কস্ট প্রাইস টাকা পয়সা। বাজারমূল্য ফান্ডটির এনএভি টাকা পয়সা।পপুলার লাইফ ফার্স্ট মিউচ্যুয়াল ফান্ডের ট্রাস্টি ইউনিট হোল্ডারদের শতাংশ লভ্যাংশ ঘোষণা করেছে। আলোচিত সময়ে ফান্ডটির ইউনিট আয় পয়সা। ইউনিট কস্ট প্রাইস টাকা পয়সা। বাজারমূল্য ফান্ডটির এনএভি টাকা পয়সা।পিএইচপি ফার্স্ট মিউচ্যুয়াল ফান্ডের ট্রাস্টি ইউনিট হোল্ডারদের শতাংশ লভ্যাংশ ঘোষণা করেছে। আলোচিত সময়ে ফান্ডটির ইউনিট আয় পয়সা। ইউনিট কস্ট প্রাইস টাকা পয়সা। বাজারমূল্য ফান্ডটির এনএভি টাকা পয়সা।ইবিএল ফার্স্ট মিউচ্যুয়াল ফান্ডের ট্রাস্টি ইউনিট হোল্ডারদের শতাংশ লভ্যাংশ ঘোষণা করেছে। আলোচিত সময়ে ফান্ডটির ইউনিট আয় পয়সা। ইউনিট কস্ট প্রাইস টাকা পয়সা। বাজারমূল্য ফান্ডটির এনএভি টাকা পয়সা।ট্রাস্ট ব্যাংক ফার্স্ট মিউচ্যুয়াল ফান্ডের ট্রাস্টি ইউনিট হোল্ডারদের শতাংশ লভ্যাংশ ঘোষণা করেছে। আলোচিত সময়ে ফান্ডটির ইউনিট আয় পয়সা। ইউনিট কস্ট প্রাইস টাকা পয়সা। বাজারমূল্য ফান্ডটির এনএভি টাকা পয়সা।আইএফআইসি ব্যাংক ফার্স্ট মিউচ্যুয়াল ফান্ডের ট্রাস্টি ইউনিট হোল্ডারদের শতাংশ লভ্যাংশ ঘোষণা করেছে। আলোচিত সময়ে ফান্ডটির ইউনিট আয় পয়সা। ইউনিট কস্ট প্রাইস টাকা পয়সা। বাজারমূল্য ফান্ডটির এনএভি টাকা পয়সা।এক্সিম ব্যাংক ফার্স্ট মিউচ্যুয়াল ফান্ডের ট্রাস্টি ইউনিট হোল্ডারদের শতাংশ লভ্যাংশ ঘোষণা করেছে। আলোচিত সময়ে ফান্ডটির ইউনিট আয় পয়সা। ইউনিট কস্ট প্রাইস টাকা পয়সা। বাজারমূল্য ফান্ডটির এনএভি টাকা।ফার্স্ট বাংলাদেশ ফিক্সড ইনকাম ফান্ডের ট্রাস্টি ইউনিট হোল্ডারদের শতাংশ লভ্যাংশ ঘোষণা করেছে। আলোচিত সময়ে ফান্ডটির ইউনিট আয় পয়সা। ইউনিট কস্ট প্রাইস টাকা পয়সা। বাজারমূল্য ফান্ডটির এনএভি টাকা পয়সা।ফার্স্ট জনতা ব্যাংক মিউচ্যুয়াল ফান্ডের ট্রাস্টি ইউনিট হোল্ডারদের শতাংশ লভ্যাংশ ঘোষণা করেছে। আলোচিত সময়ে ফান্ডটির ইউনিট আয় পয়সা। ইউনিট কস্ট প্রাইস টাকা পয়সা। বাজারমূল্য ফান্ডটির এনএভি টাকা পয়সা।\"\n",
        "\n",
        "#preprocess news\n",
        "news= preprocess_news(news)\n",
        "\n",
        "#preprocess news with pipeline \n",
        "\n"
      ]
    },
    {
      "cell_type": "code",
      "execution_count": null,
      "metadata": {
        "id": "6kkHsNFnPhrT"
      },
      "outputs": [],
      "source": [
        "predictions, raw_outputs = model.predict([\"রেইসের ফান্ডের লভ্যাংশ ঘোষণা: পুঁজিবাজারের তালিকাভুক্ত মিউচ্যুয়াল ফান্ডের ইউনিট হোল্ডারদের লভ্যাংশ ঘোষণা ট্রাস্টি। গত রোববার ফান্ডগুলোর ট্রাস্টি সভায় জুন সমাপ্ত হিসাব বছরের লভ্যাংশ ঘোষণা হয়। ফান্ডের লভ্যাংশের রেকর্ড ডেট ঘোষণা সেপ্টেম্বর।এবি ব্যাংক ফার্স্ট মিউচ্যুয়াল, ইবিএল এনআরবি মিউচ্যুয়াল ফান্ড, পপুলার লাইফ ফার্স্ট মিউচ্যুয়াল ফান্ড, পিএইচপি ফার্স্ট মিউচ্যুয়াল ফান্ড, ইবিএল ফার্স্ট মিউচ্যুয়াল ফান্ড, ট্রাস্ট ব্যাংক ফার্স্ট মিউচ্যুয়াল ফান্ড, আইএফআইসি ব্যাংক ফার্স্ট মিউচ্যুয়াল ফান্ড, এক্সিম ব্যাংক ফার্স্ট মিউচ্যুয়াল ফান্ড, ফার্স্ট বাংলাদেশ ফিক্সড ইনকাম ফান্ড ফার্স্ট জনতা ব্যাংক মিউচ্যুয়াল ফান্ডের ইউনিট হোল্ডারদের লভ্যাংশ ঘোষণা হয়েছে। ফান্ডগুলোর ফান্ডের ইউনিট হোল্ডারদের শতাংশ, তিনটির শতাংশ, দুটির শতাংশ চারটি ফান্ডের ইউনিট হোল্ডারদের শতাংশ লভ্যাংশ ঘোষণা ট্রাস্টি। পুরোটাই রি-ইনভেস্টমেন্ট ইউনিট।তথ্য মতে, এবি ব্যাংক ফার্স্ট মিউচ্যুয়াল ফান্ডের ট্রাস্টি ইউনিট হোল্ডারদের শতাংশ লভ্যাংশ ঘোষণা করেছে। আলোচিত সময়ে ফান্ডটির ইউনিট আয় পয়সা। ইউনিট কস্ট প্রাইস টাকা পয়সা। বাজারমূল্য ফান্ডটির এনএভি টাকা পয়সা।ইবিএল এনআরবি মিউচ্যুয়াল ফান্ডের ট্রাস্টি ইউনিট হোল্ডারদের শতাংশ লভ্যাংশ ঘোষণা করেছে। আলোচিত সময়ে ফান্ডটির ইউনিট আয় পয়সা। ইউনিট কস্ট প্রাইস টাকা পয়সা। বাজারমূল্য ফান্ডটির এনএভি টাকা পয়সা।পপুলার লাইফ ফার্স্ট মিউচ্যুয়াল ফান্ডের ট্রাস্টি ইউনিট হোল্ডারদের শতাংশ লভ্যাংশ ঘোষণা করেছে। আলোচিত সময়ে ফান্ডটির ইউনিট আয় পয়সা। ইউনিট কস্ট প্রাইস টাকা পয়সা। বাজারমূল্য ফান্ডটির এনএভি টাকা পয়সা।পিএইচপি ফার্স্ট মিউচ্যুয়াল ফান্ডের ট্রাস্টি ইউনিট হোল্ডারদের শতাংশ লভ্যাংশ ঘোষণা করেছে। আলোচিত সময়ে ফান্ডটির ইউনিট আয় পয়সা। ইউনিট কস্ট প্রাইস টাকা পয়সা। বাজারমূল্য ফান্ডটির এনএভি টাকা পয়সা।ইবিএল ফার্স্ট মিউচ্যুয়াল ফান্ডের ট্রাস্টি ইউনিট হোল্ডারদের শতাংশ লভ্যাংশ ঘোষণা করেছে। আলোচিত সময়ে ফান্ডটির ইউনিট আয় পয়সা। ইউনিট কস্ট প্রাইস টাকা পয়সা। বাজারমূল্য ফান্ডটির এনএভি টাকা পয়সা।ট্রাস্ট ব্যাংক ফার্স্ট মিউচ্যুয়াল ফান্ডের ট্রাস্টি ইউনিট হোল্ডারদের শতাংশ লভ্যাংশ ঘোষণা করেছে। আলোচিত সময়ে ফান্ডটির ইউনিট আয় পয়সা। ইউনিট কস্ট প্রাইস টাকা পয়সা। বাজারমূল্য ফান্ডটির এনএভি টাকা পয়সা।আইএফআইসি ব্যাংক ফার্স্ট মিউচ্যুয়াল ফান্ডের ট্রাস্টি ইউনিট হোল্ডারদের শতাংশ লভ্যাংশ ঘোষণা করেছে। আলোচিত সময়ে ফান্ডটির ইউনিট আয় পয়সা। ইউনিট কস্ট প্রাইস টাকা পয়সা। বাজারমূল্য ফান্ডটির এনএভি টাকা পয়সা।এক্সিম ব্যাংক ফার্স্ট মিউচ্যুয়াল ফান্ডের ট্রাস্টি ইউনিট হোল্ডারদের শতাংশ লভ্যাংশ ঘোষণা করেছে। আলোচিত সময়ে ফান্ডটির ইউনিট আয় পয়সা। ইউনিট কস্ট প্রাইস টাকা পয়সা। বাজারমূল্য ফান্ডটির এনএভি টাকা।ফার্স্ট বাংলাদেশ ফিক্সড ইনকাম ফান্ডের ট্রাস্টি ইউনিট হোল্ডারদের শতাংশ লভ্যাংশ ঘোষণা করেছে। আলোচিত সময়ে ফান্ডটির ইউনিট আয় পয়সা। ইউনিট কস্ট প্রাইস টাকা পয়সা। বাজারমূল্য ফান্ডটির এনএভি টাকা পয়সা।ফার্স্ট জনতা ব্যাংক মিউচ্যুয়াল ফান্ডের ট্রাস্টি ইউনিট হোল্ডারদের শতাংশ লভ্যাংশ ঘোষণা করেছে। আলোচিত সময়ে ফান্ডটির ইউনিট আয় পয়সা। ইউনিট কস্ট প্রাইস টাকা পয়সা। বাজারমূল্য ফান্ডটির এনএভি টাকা পয়সা।\"])"
      ]
    },
    {
      "cell_type": "code",
      "execution_count": null,
      "metadata": {
        "colab": {
          "base_uri": "https://localhost:8080/"
        },
        "id": "D8ViJhkhQIYR",
        "outputId": "f5987fd9-82b0-47e4-b6e2-6e50256c04f3"
      },
      "outputs": [
        {
          "data": {
            "text/plain": [
              "[[0, 0, 0, 0, 0, 0, 0, 0, 1]]"
            ]
          },
          "execution_count": 19,
          "metadata": {},
          "output_type": "execute_result"
        }
      ],
      "source": [
        "predictions"
      ]
    },
    {
      "cell_type": "code",
      "execution_count": null,
      "metadata": {
        "id": "yJLXbAd2QKN6"
      },
      "outputs": [],
      "source": []
    }
  ],
  "metadata": {
    "accelerator": "GPU",
    "colab": {
      "provenance": []
    },
    "gpuClass": "standard",
    "kernelspec": {
      "display_name": "Python 3",
      "name": "python3"
    },
    "language_info": {
      "codemirror_mode": {
        "name": "ipython",
        "version": 3
      },
      "file_extension": ".py",
      "mimetype": "text/x-python",
      "name": "python",
      "nbconvert_exporter": "python",
      "pygments_lexer": "ipython3",
      "version": "3.9.12"
    }
  },
  "nbformat": 4,
  "nbformat_minor": 0
}
